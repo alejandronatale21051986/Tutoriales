{
  "cells": [
    {
      "cell_type": "markdown",
      "metadata": {
        "id": "view-in-github",
        "colab_type": "text"
      },
      "source": [
        "<a href=\"https://colab.research.google.com/github/alejandronatale21051986/Tutoriales/blob/main/pandas_tutorial_db_git.ipynb\" target=\"_parent\"><img src=\"https://colab.research.google.com/assets/colab-badge.svg\" alt=\"Open In Colab\"/></a>"
      ]
    },
    {
      "cell_type": "markdown",
      "source": [
        "# Tutorial de Pandas en Español\n",
        "\n",
        "Este tutorial va de la mano con un blog que publiqué en Platzi: [Tutorial de Pandas](https://platzi.com/blog/pandas)\n",
        "\n",
        "[<img src=\"/work/images/pandas-logo.png\" width=\"350\" />](https://pandas.pydata.org/)\n",
        "\n",
        "Se lo importa con la siguiente convención:"
      ],
      "metadata": {
        "tags": [],
        "cell_id": "6d7eb95d7c834ecdbf2ca51a01b4dc2b",
        "deepnote_app_coordinates": {
          "h": 5,
          "w": 12,
          "x": 0,
          "y": null
        },
        "deepnote_cell_type": "markdown",
        "id": "pOOe0TXqzp15"
      }
    },
    {
      "cell_type": "code",
      "source": [
        "import pandas as pd"
      ],
      "metadata": {
        "tags": [],
        "cell_id": "09db294c754841afb045dc1c93309dc4",
        "source_hash": "9b82ee11",
        "execution_start": 1645375717926,
        "execution_millis": 8,
        "deepnote_app_coordinates": {
          "h": 5,
          "w": 12,
          "x": 0,
          "y": 6
        },
        "deepnote_to_be_reexecuted": false,
        "deepnote_cell_type": "code",
        "id": "Zzp17wsCzp2A"
      },
      "outputs": [],
      "execution_count": 3
    },
    {
      "cell_type": "markdown",
      "source": [
        "## DataFrame\n",
        "\n",
        "### Crear un DataFrame con Python"
      ],
      "metadata": {
        "tags": [],
        "cell_id": "c71e09001e4f400db0cab705aff71952",
        "deepnote_app_coordinates": {
          "h": 5,
          "w": 12,
          "x": 0,
          "y": 12
        },
        "deepnote_cell_type": "markdown",
        "id": "UuNVtS1Nzp2B"
      }
    },
    {
      "cell_type": "markdown",
      "source": [
        "#### 1) Diccionario de listas (columna por columna)"
      ],
      "metadata": {
        "tags": [],
        "cell_id": "e9f8cc3a9092417bbad5e495f1d86fe5",
        "deepnote_app_coordinates": {
          "h": 5,
          "w": 12,
          "x": 0,
          "y": 18
        },
        "deepnote_cell_type": "markdown",
        "id": "g8ZAz5Rnzp2B"
      }
    },
    {
      "cell_type": "code",
      "source": [
        "football_dict = {\n",
        "    \"player\": [\"Lionel Messi\", \"Cristiano Ronaldo\"],\n",
        "    \"year\": [2016, 2016],\n",
        "    \"goals\": [37, 25],\n",
        "}\n",
        "football_stats = pd.DataFrame(football_dict)\n",
        "print(football_stats)"
      ],
      "metadata": {
        "tags": [],
        "cell_id": "c9383cd1d08a4d5291587b1d5883fb63",
        "source_hash": "f7383565",
        "execution_start": 1645375717992,
        "execution_millis": 46,
        "deepnote_app_coordinates": {
          "h": 5,
          "w": 12,
          "x": 0,
          "y": 24
        },
        "deepnote_to_be_reexecuted": false,
        "deepnote_cell_type": "code",
        "colab": {
          "base_uri": "https://localhost:8080/"
        },
        "id": "JUAsI5Pgzp2B",
        "outputId": "95cde1e6-1da2-47a5-cb80-11565ec154fb"
      },
      "outputs": [
        {
          "output_type": "stream",
          "name": "stdout",
          "text": [
            "              player  year  goals\n",
            "0       Lionel Messi  2016     37\n",
            "1  Cristiano Ronaldo  2016     25\n"
          ]
        }
      ],
      "execution_count": 4
    },
    {
      "cell_type": "markdown",
      "source": [
        "#### 2) Lista de diccionarios (fila por fila)"
      ],
      "metadata": {
        "tags": [],
        "cell_id": "0aa2be3e9167408d97de28f9946b912b",
        "deepnote_app_coordinates": {
          "h": 5,
          "w": 12,
          "x": 0,
          "y": 30
        },
        "deepnote_cell_type": "markdown",
        "id": "S8byE3yxzp2C"
      }
    },
    {
      "cell_type": "code",
      "source": [
        "football_list = [\n",
        "    {\"player\": \"Lionel Messi\", \"year\": 2016, \"goals\": 37},\n",
        "    {\"player\": \"Cristiano Ronaldo\", \"year\": 2016, \"goals\": 25},\n",
        "]\n",
        "football_stats = pd.DataFrame(football_list)\n",
        "print(football_stats)"
      ],
      "metadata": {
        "tags": [],
        "cell_id": "1a09cc05d2be4630a1f856ab6eecfe11",
        "source_hash": "4bd5f41c",
        "execution_start": 1645375718037,
        "execution_millis": 0,
        "deepnote_app_coordinates": {
          "h": 5,
          "w": 12,
          "x": 0,
          "y": 36
        },
        "deepnote_to_be_reexecuted": false,
        "deepnote_cell_type": "code",
        "colab": {
          "base_uri": "https://localhost:8080/"
        },
        "id": "QgDx5wfgzp2C",
        "outputId": "1a8bd118-c9e8-4cb0-cad0-a5acc1035a93"
      },
      "outputs": [
        {
          "output_type": "stream",
          "name": "stdout",
          "text": [
            "              player  year  goals\n",
            "0       Lionel Messi  2016     37\n",
            "1  Cristiano Ronaldo  2016     25\n"
          ]
        }
      ],
      "execution_count": 5
    },
    {
      "cell_type": "markdown",
      "source": [
        "## Importar datos\n",
        "\n",
        "### Base de datos\n",
        "\n",
        "Usaremos una base de datos de las 5 ligas top de Europa entre los años 2014 y 2020.\n",
        "> Fuente: [Kaggle](https://www.kaggle.com/shushrutsharma/top-5-football-leagues?select=Fullmetadata.csv)\n",
        "\n",
        "### Importar csv\n",
        "\n",
        "`pd.read_csv('path/file.csv')`"
      ],
      "metadata": {
        "tags": [],
        "cell_id": "67da7d80699145b6b05f074f23bec78d",
        "deepnote_app_coordinates": {
          "h": 5,
          "w": 12,
          "x": 0,
          "y": 42
        },
        "deepnote_cell_type": "markdown",
        "id": "3wjRbmH0zp2D"
      }
    },
    {
      "cell_type": "code",
      "source": [
        "df = pd.read_csv('https://raw.githubusercontent.com/alejandronatale21051986/Tutoriales/main/football_mini_stats.csv')\n",
        "print(df)"
      ],
      "metadata": {
        "tags": [],
        "cell_id": "fcf98c42d9d34e2f81b9b2e103a5d1b6",
        "source_hash": "e0c0ea6c",
        "execution_start": 1645375718081,
        "execution_millis": 2,
        "deepnote_app_coordinates": {
          "h": 5,
          "w": 12,
          "x": 0,
          "y": 48
        },
        "deepnote_to_be_reexecuted": false,
        "deepnote_cell_type": "code",
        "colab": {
          "base_uri": "https://localhost:8080/"
        },
        "id": "8fv62_tKzp2D",
        "outputId": "12939052-a506-4466-95e2-0319171737ab"
      },
      "outputs": [
        {
          "output_type": "stream",
          "name": "stdout",
          "text": [
            "              player  year  goals\n",
            "0       Lionel Messi  2016     37\n",
            "1  Cristiano Ronaldo  2016     25\n"
          ]
        }
      ],
      "execution_count": 6
    },
    {
      "cell_type": "markdown",
      "source": [
        "Importar con una columna como índice"
      ],
      "metadata": {
        "tags": [],
        "cell_id": "d24dac6f1fda494ca22a5d5af23dd28a",
        "deepnote_app_coordinates": {
          "h": 5,
          "w": 12,
          "x": 0,
          "y": 270
        },
        "deepnote_cell_type": "markdown",
        "id": "n9NJKJ_Gzp2D"
      }
    },
    {
      "cell_type": "code",
      "source": [
        "df = pd.read_csv('https://raw.githubusercontent.com/alejandronatale21051986/Tutoriales/main/football_mini_stats.csv', index_col='player')\n",
        "print(df)"
      ],
      "metadata": {
        "tags": [],
        "cell_id": "1b63b2d0fe424758966863d93888111d",
        "allow_embed": false,
        "source_hash": "e83f94b0",
        "execution_start": 1645375718090,
        "execution_millis": 12,
        "deepnote_app_coordinates": {
          "h": 5,
          "w": 12,
          "x": 0,
          "y": 54
        },
        "deepnote_to_be_reexecuted": false,
        "deepnote_cell_type": "code",
        "colab": {
          "base_uri": "https://localhost:8080/"
        },
        "id": "QOLxMSLNzp2E",
        "outputId": "a27cf680-6114-409f-896b-f0de7f4a778f"
      },
      "outputs": [
        {
          "output_type": "stream",
          "name": "stdout",
          "text": [
            "                   year  goals\n",
            "player                        \n",
            "Lionel Messi       2016     37\n",
            "Cristiano Ronaldo  2016     25\n"
          ]
        }
      ],
      "execution_count": 7
    },
    {
      "cell_type": "code",
      "source": [
        "df = pd.read_csv('https://raw.githubusercontent.com/alejandronatale21051986/Tutoriales/main/football_stats.csv', index_col='player_id')\n",
        "df"
      ],
      "metadata": {
        "tags": [],
        "cell_id": "1bc8ab513ada43d4b6b0f884aa4ff5fc",
        "source_hash": "338fbfcc",
        "execution_start": 1645375718160,
        "execution_millis": 189,
        "deepnote_app_coordinates": {
          "h": 5,
          "w": 12,
          "x": 0,
          "y": 60
        },
        "deepnote_to_be_reexecuted": false,
        "deepnote_cell_type": "code",
        "colab": {
          "base_uri": "https://localhost:8080/",
          "height": 455
        },
        "id": "Fjz234Y3zp2E",
        "outputId": "85c0dacd-b740-4242-836e-71f889f30ab2"
      },
      "outputs": [
        {
          "output_type": "execute_result",
          "data": {
            "text/plain": [
              "                   player_name  year  games  goals  npg  shots  assists  \\\n",
              "player_id                                                                 \n",
              "8865             Ollie Watkins  2020      9      6    5     22        1   \n",
              "675              Jack Grealish  2020      9      5    5     26        5   \n",
              "592               Ross Barkley  2020      6      2    2     17        1   \n",
              "1024              Tyrone Mings  2020      9      2    2      7        1   \n",
              "7726          Ezri Konsa Ngoyo  2020      9      2    2      7        0   \n",
              "...                        ...   ...    ...    ...  ...    ...      ...   \n",
              "4267          Florian Hartherz  2014     10      0    0      1        2   \n",
              "4268       Christian Strohdiek  2014     22      0    0      6        0   \n",
              "4311                Idir Ouali  2014      6      0    0      4        0   \n",
              "4334              Mirnes Pepic  2014      2      0    0      0        0   \n",
              "4363            Thomas Bertels  2014      1      0    0      0        0   \n",
              "\n",
              "           yellow_cards  red_cards position    team_name  time  \n",
              "player_id                                                       \n",
              "8865                  0          0        F  Aston Villa   810  \n",
              "675                   2          0      F M  Aston Villa   810  \n",
              "592                   0          0        M  Aston Villa   454  \n",
              "1024                  2          0        D  Aston Villa   810  \n",
              "7726                  0          0        D  Aston Villa   810  \n",
              "...                 ...        ...      ...          ...   ...  \n",
              "4267                  1          1      D S    Paderborn   775  \n",
              "4268                  2          0      D S    Paderborn  1608  \n",
              "4311                  1          0      M S    Paderborn   296  \n",
              "4334                  0          0        S    Paderborn    20  \n",
              "4363                  0          0        S    Paderborn     3  \n",
              "\n",
              "[18633 rows x 12 columns]"
            ],
            "text/html": [
              "\n",
              "  <div id=\"df-20306ed4-ba51-45ce-85e4-cafbd268be6f\">\n",
              "    <div class=\"colab-df-container\">\n",
              "      <div>\n",
              "<style scoped>\n",
              "    .dataframe tbody tr th:only-of-type {\n",
              "        vertical-align: middle;\n",
              "    }\n",
              "\n",
              "    .dataframe tbody tr th {\n",
              "        vertical-align: top;\n",
              "    }\n",
              "\n",
              "    .dataframe thead th {\n",
              "        text-align: right;\n",
              "    }\n",
              "</style>\n",
              "<table border=\"1\" class=\"dataframe\">\n",
              "  <thead>\n",
              "    <tr style=\"text-align: right;\">\n",
              "      <th></th>\n",
              "      <th>player_name</th>\n",
              "      <th>year</th>\n",
              "      <th>games</th>\n",
              "      <th>goals</th>\n",
              "      <th>npg</th>\n",
              "      <th>shots</th>\n",
              "      <th>assists</th>\n",
              "      <th>yellow_cards</th>\n",
              "      <th>red_cards</th>\n",
              "      <th>position</th>\n",
              "      <th>team_name</th>\n",
              "      <th>time</th>\n",
              "    </tr>\n",
              "    <tr>\n",
              "      <th>player_id</th>\n",
              "      <th></th>\n",
              "      <th></th>\n",
              "      <th></th>\n",
              "      <th></th>\n",
              "      <th></th>\n",
              "      <th></th>\n",
              "      <th></th>\n",
              "      <th></th>\n",
              "      <th></th>\n",
              "      <th></th>\n",
              "      <th></th>\n",
              "      <th></th>\n",
              "    </tr>\n",
              "  </thead>\n",
              "  <tbody>\n",
              "    <tr>\n",
              "      <th>8865</th>\n",
              "      <td>Ollie Watkins</td>\n",
              "      <td>2020</td>\n",
              "      <td>9</td>\n",
              "      <td>6</td>\n",
              "      <td>5</td>\n",
              "      <td>22</td>\n",
              "      <td>1</td>\n",
              "      <td>0</td>\n",
              "      <td>0</td>\n",
              "      <td>F</td>\n",
              "      <td>Aston Villa</td>\n",
              "      <td>810</td>\n",
              "    </tr>\n",
              "    <tr>\n",
              "      <th>675</th>\n",
              "      <td>Jack Grealish</td>\n",
              "      <td>2020</td>\n",
              "      <td>9</td>\n",
              "      <td>5</td>\n",
              "      <td>5</td>\n",
              "      <td>26</td>\n",
              "      <td>5</td>\n",
              "      <td>2</td>\n",
              "      <td>0</td>\n",
              "      <td>F M</td>\n",
              "      <td>Aston Villa</td>\n",
              "      <td>810</td>\n",
              "    </tr>\n",
              "    <tr>\n",
              "      <th>592</th>\n",
              "      <td>Ross Barkley</td>\n",
              "      <td>2020</td>\n",
              "      <td>6</td>\n",
              "      <td>2</td>\n",
              "      <td>2</td>\n",
              "      <td>17</td>\n",
              "      <td>1</td>\n",
              "      <td>0</td>\n",
              "      <td>0</td>\n",
              "      <td>M</td>\n",
              "      <td>Aston Villa</td>\n",
              "      <td>454</td>\n",
              "    </tr>\n",
              "    <tr>\n",
              "      <th>1024</th>\n",
              "      <td>Tyrone Mings</td>\n",
              "      <td>2020</td>\n",
              "      <td>9</td>\n",
              "      <td>2</td>\n",
              "      <td>2</td>\n",
              "      <td>7</td>\n",
              "      <td>1</td>\n",
              "      <td>2</td>\n",
              "      <td>0</td>\n",
              "      <td>D</td>\n",
              "      <td>Aston Villa</td>\n",
              "      <td>810</td>\n",
              "    </tr>\n",
              "    <tr>\n",
              "      <th>7726</th>\n",
              "      <td>Ezri Konsa Ngoyo</td>\n",
              "      <td>2020</td>\n",
              "      <td>9</td>\n",
              "      <td>2</td>\n",
              "      <td>2</td>\n",
              "      <td>7</td>\n",
              "      <td>0</td>\n",
              "      <td>0</td>\n",
              "      <td>0</td>\n",
              "      <td>D</td>\n",
              "      <td>Aston Villa</td>\n",
              "      <td>810</td>\n",
              "    </tr>\n",
              "    <tr>\n",
              "      <th>...</th>\n",
              "      <td>...</td>\n",
              "      <td>...</td>\n",
              "      <td>...</td>\n",
              "      <td>...</td>\n",
              "      <td>...</td>\n",
              "      <td>...</td>\n",
              "      <td>...</td>\n",
              "      <td>...</td>\n",
              "      <td>...</td>\n",
              "      <td>...</td>\n",
              "      <td>...</td>\n",
              "      <td>...</td>\n",
              "    </tr>\n",
              "    <tr>\n",
              "      <th>4267</th>\n",
              "      <td>Florian Hartherz</td>\n",
              "      <td>2014</td>\n",
              "      <td>10</td>\n",
              "      <td>0</td>\n",
              "      <td>0</td>\n",
              "      <td>1</td>\n",
              "      <td>2</td>\n",
              "      <td>1</td>\n",
              "      <td>1</td>\n",
              "      <td>D S</td>\n",
              "      <td>Paderborn</td>\n",
              "      <td>775</td>\n",
              "    </tr>\n",
              "    <tr>\n",
              "      <th>4268</th>\n",
              "      <td>Christian Strohdiek</td>\n",
              "      <td>2014</td>\n",
              "      <td>22</td>\n",
              "      <td>0</td>\n",
              "      <td>0</td>\n",
              "      <td>6</td>\n",
              "      <td>0</td>\n",
              "      <td>2</td>\n",
              "      <td>0</td>\n",
              "      <td>D S</td>\n",
              "      <td>Paderborn</td>\n",
              "      <td>1608</td>\n",
              "    </tr>\n",
              "    <tr>\n",
              "      <th>4311</th>\n",
              "      <td>Idir Ouali</td>\n",
              "      <td>2014</td>\n",
              "      <td>6</td>\n",
              "      <td>0</td>\n",
              "      <td>0</td>\n",
              "      <td>4</td>\n",
              "      <td>0</td>\n",
              "      <td>1</td>\n",
              "      <td>0</td>\n",
              "      <td>M S</td>\n",
              "      <td>Paderborn</td>\n",
              "      <td>296</td>\n",
              "    </tr>\n",
              "    <tr>\n",
              "      <th>4334</th>\n",
              "      <td>Mirnes Pepic</td>\n",
              "      <td>2014</td>\n",
              "      <td>2</td>\n",
              "      <td>0</td>\n",
              "      <td>0</td>\n",
              "      <td>0</td>\n",
              "      <td>0</td>\n",
              "      <td>0</td>\n",
              "      <td>0</td>\n",
              "      <td>S</td>\n",
              "      <td>Paderborn</td>\n",
              "      <td>20</td>\n",
              "    </tr>\n",
              "    <tr>\n",
              "      <th>4363</th>\n",
              "      <td>Thomas Bertels</td>\n",
              "      <td>2014</td>\n",
              "      <td>1</td>\n",
              "      <td>0</td>\n",
              "      <td>0</td>\n",
              "      <td>0</td>\n",
              "      <td>0</td>\n",
              "      <td>0</td>\n",
              "      <td>0</td>\n",
              "      <td>S</td>\n",
              "      <td>Paderborn</td>\n",
              "      <td>3</td>\n",
              "    </tr>\n",
              "  </tbody>\n",
              "</table>\n",
              "<p>18633 rows × 12 columns</p>\n",
              "</div>\n",
              "      <button class=\"colab-df-convert\" onclick=\"convertToInteractive('df-20306ed4-ba51-45ce-85e4-cafbd268be6f')\"\n",
              "              title=\"Convert this dataframe to an interactive table.\"\n",
              "              style=\"display:none;\">\n",
              "        \n",
              "  <svg xmlns=\"http://www.w3.org/2000/svg\" height=\"24px\"viewBox=\"0 0 24 24\"\n",
              "       width=\"24px\">\n",
              "    <path d=\"M0 0h24v24H0V0z\" fill=\"none\"/>\n",
              "    <path d=\"M18.56 5.44l.94 2.06.94-2.06 2.06-.94-2.06-.94-.94-2.06-.94 2.06-2.06.94zm-11 1L8.5 8.5l.94-2.06 2.06-.94-2.06-.94L8.5 2.5l-.94 2.06-2.06.94zm10 10l.94 2.06.94-2.06 2.06-.94-2.06-.94-.94-2.06-.94 2.06-2.06.94z\"/><path d=\"M17.41 7.96l-1.37-1.37c-.4-.4-.92-.59-1.43-.59-.52 0-1.04.2-1.43.59L10.3 9.45l-7.72 7.72c-.78.78-.78 2.05 0 2.83L4 21.41c.39.39.9.59 1.41.59.51 0 1.02-.2 1.41-.59l7.78-7.78 2.81-2.81c.8-.78.8-2.07 0-2.86zM5.41 20L4 18.59l7.72-7.72 1.47 1.35L5.41 20z\"/>\n",
              "  </svg>\n",
              "      </button>\n",
              "      \n",
              "  <style>\n",
              "    .colab-df-container {\n",
              "      display:flex;\n",
              "      flex-wrap:wrap;\n",
              "      gap: 12px;\n",
              "    }\n",
              "\n",
              "    .colab-df-convert {\n",
              "      background-color: #E8F0FE;\n",
              "      border: none;\n",
              "      border-radius: 50%;\n",
              "      cursor: pointer;\n",
              "      display: none;\n",
              "      fill: #1967D2;\n",
              "      height: 32px;\n",
              "      padding: 0 0 0 0;\n",
              "      width: 32px;\n",
              "    }\n",
              "\n",
              "    .colab-df-convert:hover {\n",
              "      background-color: #E2EBFA;\n",
              "      box-shadow: 0px 1px 2px rgba(60, 64, 67, 0.3), 0px 1px 3px 1px rgba(60, 64, 67, 0.15);\n",
              "      fill: #174EA6;\n",
              "    }\n",
              "\n",
              "    [theme=dark] .colab-df-convert {\n",
              "      background-color: #3B4455;\n",
              "      fill: #D2E3FC;\n",
              "    }\n",
              "\n",
              "    [theme=dark] .colab-df-convert:hover {\n",
              "      background-color: #434B5C;\n",
              "      box-shadow: 0px 1px 3px 1px rgba(0, 0, 0, 0.15);\n",
              "      filter: drop-shadow(0px 1px 2px rgba(0, 0, 0, 0.3));\n",
              "      fill: #FFFFFF;\n",
              "    }\n",
              "  </style>\n",
              "\n",
              "      <script>\n",
              "        const buttonEl =\n",
              "          document.querySelector('#df-20306ed4-ba51-45ce-85e4-cafbd268be6f button.colab-df-convert');\n",
              "        buttonEl.style.display =\n",
              "          google.colab.kernel.accessAllowed ? 'block' : 'none';\n",
              "\n",
              "        async function convertToInteractive(key) {\n",
              "          const element = document.querySelector('#df-20306ed4-ba51-45ce-85e4-cafbd268be6f');\n",
              "          const dataTable =\n",
              "            await google.colab.kernel.invokeFunction('convertToInteractive',\n",
              "                                                     [key], {});\n",
              "          if (!dataTable) return;\n",
              "\n",
              "          const docLinkHtml = 'Like what you see? Visit the ' +\n",
              "            '<a target=\"_blank\" href=https://colab.research.google.com/notebooks/data_table.ipynb>data table notebook</a>'\n",
              "            + ' to learn more about interactive tables.';\n",
              "          element.innerHTML = '';\n",
              "          dataTable['output_type'] = 'display_data';\n",
              "          await google.colab.output.renderOutput(dataTable, element);\n",
              "          const docLink = document.createElement('div');\n",
              "          docLink.innerHTML = docLinkHtml;\n",
              "          element.appendChild(docLink);\n",
              "        }\n",
              "      </script>\n",
              "    </div>\n",
              "  </div>\n",
              "  "
            ]
          },
          "metadata": {},
          "execution_count": 8
        }
      ],
      "execution_count": 8
    },
    {
      "cell_type": "markdown",
      "source": [
        "## Inspeccionar un DataFrame\n",
        "\n",
        "- `df.head()` → retorna las 5 primeras filas. También le puedes pasar un entero como parámetro y te devolverá esa cantidad de primeras filas.\n",
        "- `df.tail()` → retorna las últimas 5 filas del dataset.\n",
        "- `df.sample()` → es parecido a los 2 anteriores, pero este tomará muestras al azar del DataFrame.\n",
        "- `df.shape` → retorna las filas y columnas que tiene el DataFrame.\n",
        "- `df.size` → multiplica las filas y columnas y te da el total de datos del DataFrame.\n",
        "- `df.info()` → este es genial, te da la cuenta de valores no nulos, el tipo de dato de cada columna (recuerda que solo puede haber un único tipo de dato por columna) y el uso de memoria. Cuando estés procesando los datos, será un gran aliado.\n",
        "- `df.describe()` → te ayudará mucho con las primeras impresiones de los datos. Calcula algunas estadísticas descriptivas para cada columna."
      ],
      "metadata": {
        "tags": [],
        "cell_id": "907843c908a34dfda66ec593a69b476a",
        "deepnote_app_coordinates": {
          "h": 5,
          "w": 12,
          "x": 0,
          "y": 66
        },
        "deepnote_cell_type": "markdown",
        "id": "yydAVo8Tzp2E"
      }
    },
    {
      "cell_type": "code",
      "source": [
        "print(df.sample(3))"
      ],
      "metadata": {
        "tags": [],
        "cell_id": "85d3c2161b2f459fac6096eb49c904e2",
        "source_hash": "42137c8e",
        "execution_start": 1645375718365,
        "execution_millis": 11,
        "deepnote_app_coordinates": {
          "h": 5,
          "w": 12,
          "x": 0,
          "y": 72
        },
        "deepnote_to_be_reexecuted": false,
        "deepnote_cell_type": "code",
        "colab": {
          "base_uri": "https://localhost:8080/"
        },
        "id": "lRnwBnFrzp2F",
        "outputId": "dcbbe4e4-47f7-43c7-984c-bc64688f47d4"
      },
      "outputs": [
        {
          "output_type": "stream",
          "name": "stdout",
          "text": [
            "               player_name  year  games  goals  npg  shots  assists  \\\n",
            "player_id                                                             \n",
            "7490       Mason Greenwood  2019     31     10   10     39        1   \n",
            "769          Jonjo Shelvey  2020      6      0    0     10        0   \n",
            "4138            Dani Nieto  2014      9      0    0      5        0   \n",
            "\n",
            "           yellow_cards  red_cards position          team_name  time  \n",
            "player_id                                                             \n",
            "7490                  0          0    F M S  Manchester United  1304  \n",
            "769                   2          0        M   Newcastle United   527  \n",
            "4138                  1          0      M S              Eibar   209  \n"
          ]
        }
      ],
      "execution_count": 9
    },
    {
      "cell_type": "code",
      "source": [
        "print(df.shape)"
      ],
      "metadata": {
        "tags": [],
        "cell_id": "6759f814ada34b6da7a78494f73cef22",
        "source_hash": "35809e90",
        "execution_start": 1645375718385,
        "execution_millis": 7,
        "deepnote_app_coordinates": {
          "h": 5,
          "w": 12,
          "x": 0,
          "y": 78
        },
        "deepnote_to_be_reexecuted": false,
        "deepnote_cell_type": "code",
        "colab": {
          "base_uri": "https://localhost:8080/"
        },
        "id": "p8mwqzd5zp2F",
        "outputId": "3b128361-c43d-41a5-a220-83c140857d2f"
      },
      "outputs": [
        {
          "output_type": "stream",
          "name": "stdout",
          "text": [
            "(18633, 12)\n"
          ]
        }
      ],
      "execution_count": 10
    },
    {
      "cell_type": "code",
      "source": [
        "print(df.size)"
      ],
      "metadata": {
        "tags": [],
        "cell_id": "03ed3fc2867c4be6b15ee0f41b65d3a0",
        "source_hash": "7ad480d5",
        "execution_start": 1645375718440,
        "execution_millis": 1,
        "deepnote_app_coordinates": {
          "h": 5,
          "w": 12,
          "x": 0,
          "y": 84
        },
        "deepnote_to_be_reexecuted": false,
        "deepnote_cell_type": "code",
        "colab": {
          "base_uri": "https://localhost:8080/"
        },
        "id": "lu0GwGyDzp2F",
        "outputId": "da5adc95-56f9-422a-dd68-2e34f904b7a8"
      },
      "outputs": [
        {
          "output_type": "stream",
          "name": "stdout",
          "text": [
            "223596\n"
          ]
        }
      ],
      "execution_count": 11
    },
    {
      "cell_type": "code",
      "source": [
        "print(df.info())"
      ],
      "metadata": {
        "tags": [],
        "cell_id": "56fd11b5a0c942a6907542172f466f94",
        "source_hash": "8b651934",
        "execution_start": 1645375718441,
        "execution_millis": 70,
        "deepnote_app_coordinates": {
          "h": 5,
          "w": 12,
          "x": 0,
          "y": 90
        },
        "deepnote_to_be_reexecuted": false,
        "deepnote_cell_type": "code",
        "colab": {
          "base_uri": "https://localhost:8080/"
        },
        "id": "fygSTE1Szp2F",
        "outputId": "816640e2-af15-4b3d-bb15-fd0b692addd7"
      },
      "outputs": [
        {
          "output_type": "stream",
          "name": "stdout",
          "text": [
            "<class 'pandas.core.frame.DataFrame'>\n",
            "Int64Index: 18633 entries, 8865 to 4363\n",
            "Data columns (total 12 columns):\n",
            " #   Column        Non-Null Count  Dtype \n",
            "---  ------        --------------  ----- \n",
            " 0   player_name   18633 non-null  object\n",
            " 1   year          18633 non-null  int64 \n",
            " 2   games         18633 non-null  int64 \n",
            " 3   goals         18633 non-null  int64 \n",
            " 4   npg           18633 non-null  int64 \n",
            " 5   shots         18633 non-null  int64 \n",
            " 6   assists       18633 non-null  int64 \n",
            " 7   yellow_cards  18633 non-null  int64 \n",
            " 8   red_cards     18633 non-null  int64 \n",
            " 9   position      18633 non-null  object\n",
            " 10  team_name     18633 non-null  object\n",
            " 11  time          18633 non-null  int64 \n",
            "dtypes: int64(9), object(3)\n",
            "memory usage: 1.8+ MB\n",
            "None\n"
          ]
        }
      ],
      "execution_count": 12
    },
    {
      "cell_type": "code",
      "source": [
        "df.describe()"
      ],
      "metadata": {
        "tags": [],
        "cell_id": "7dcbf04454bc4b1f91d0761c3d86638b",
        "source_hash": "f88152d9",
        "execution_start": 1645375718506,
        "execution_millis": 68,
        "deepnote_app_coordinates": {
          "h": 5,
          "w": 12,
          "x": 0,
          "y": 96
        },
        "deepnote_to_be_reexecuted": false,
        "deepnote_cell_type": "code",
        "colab": {
          "base_uri": "https://localhost:8080/",
          "height": 300
        },
        "id": "bEVIh2nqzp2F",
        "outputId": "ad1b8875-cdd8-4b2f-e941-64a79b36dfc4"
      },
      "outputs": [
        {
          "output_type": "execute_result",
          "data": {
            "text/plain": [
              "               year         games         goals           npg         shots  \\\n",
              "count  18633.000000  18633.000000  18633.000000  18633.000000  18633.000000   \n",
              "mean    2016.937691     17.072291      1.624054      1.478399     15.323888   \n",
              "std        1.976606     11.375527      3.252418      2.891849     20.934645   \n",
              "min     2014.000000      1.000000      0.000000      0.000000      0.000000   \n",
              "25%     2015.000000      7.000000      0.000000      0.000000      1.000000   \n",
              "50%     2017.000000     16.000000      0.000000      0.000000      8.000000   \n",
              "75%     2019.000000     27.000000      2.000000      2.000000     21.000000   \n",
              "max     2020.000000     38.000000     48.000000     38.000000    227.000000   \n",
              "\n",
              "            assists  yellow_cards     red_cards          time  \n",
              "count  18633.000000  18633.000000  18633.000000  18633.000000  \n",
              "mean       1.138088      2.453979      0.127569   1207.483282  \n",
              "std        1.936238      2.685745      0.370656    975.753086  \n",
              "min        0.000000      0.000000      0.000000      1.000000  \n",
              "25%        0.000000      0.000000      0.000000    326.000000  \n",
              "50%        0.000000      2.000000      0.000000    976.000000  \n",
              "75%        2.000000      4.000000      0.000000   2004.000000  \n",
              "max       20.000000     17.000000      5.000000   3420.000000  "
            ],
            "text/html": [
              "\n",
              "  <div id=\"df-e61e16ba-be9d-46ea-a424-44042ab20b33\">\n",
              "    <div class=\"colab-df-container\">\n",
              "      <div>\n",
              "<style scoped>\n",
              "    .dataframe tbody tr th:only-of-type {\n",
              "        vertical-align: middle;\n",
              "    }\n",
              "\n",
              "    .dataframe tbody tr th {\n",
              "        vertical-align: top;\n",
              "    }\n",
              "\n",
              "    .dataframe thead th {\n",
              "        text-align: right;\n",
              "    }\n",
              "</style>\n",
              "<table border=\"1\" class=\"dataframe\">\n",
              "  <thead>\n",
              "    <tr style=\"text-align: right;\">\n",
              "      <th></th>\n",
              "      <th>year</th>\n",
              "      <th>games</th>\n",
              "      <th>goals</th>\n",
              "      <th>npg</th>\n",
              "      <th>shots</th>\n",
              "      <th>assists</th>\n",
              "      <th>yellow_cards</th>\n",
              "      <th>red_cards</th>\n",
              "      <th>time</th>\n",
              "    </tr>\n",
              "  </thead>\n",
              "  <tbody>\n",
              "    <tr>\n",
              "      <th>count</th>\n",
              "      <td>18633.000000</td>\n",
              "      <td>18633.000000</td>\n",
              "      <td>18633.000000</td>\n",
              "      <td>18633.000000</td>\n",
              "      <td>18633.000000</td>\n",
              "      <td>18633.000000</td>\n",
              "      <td>18633.000000</td>\n",
              "      <td>18633.000000</td>\n",
              "      <td>18633.000000</td>\n",
              "    </tr>\n",
              "    <tr>\n",
              "      <th>mean</th>\n",
              "      <td>2016.937691</td>\n",
              "      <td>17.072291</td>\n",
              "      <td>1.624054</td>\n",
              "      <td>1.478399</td>\n",
              "      <td>15.323888</td>\n",
              "      <td>1.138088</td>\n",
              "      <td>2.453979</td>\n",
              "      <td>0.127569</td>\n",
              "      <td>1207.483282</td>\n",
              "    </tr>\n",
              "    <tr>\n",
              "      <th>std</th>\n",
              "      <td>1.976606</td>\n",
              "      <td>11.375527</td>\n",
              "      <td>3.252418</td>\n",
              "      <td>2.891849</td>\n",
              "      <td>20.934645</td>\n",
              "      <td>1.936238</td>\n",
              "      <td>2.685745</td>\n",
              "      <td>0.370656</td>\n",
              "      <td>975.753086</td>\n",
              "    </tr>\n",
              "    <tr>\n",
              "      <th>min</th>\n",
              "      <td>2014.000000</td>\n",
              "      <td>1.000000</td>\n",
              "      <td>0.000000</td>\n",
              "      <td>0.000000</td>\n",
              "      <td>0.000000</td>\n",
              "      <td>0.000000</td>\n",
              "      <td>0.000000</td>\n",
              "      <td>0.000000</td>\n",
              "      <td>1.000000</td>\n",
              "    </tr>\n",
              "    <tr>\n",
              "      <th>25%</th>\n",
              "      <td>2015.000000</td>\n",
              "      <td>7.000000</td>\n",
              "      <td>0.000000</td>\n",
              "      <td>0.000000</td>\n",
              "      <td>1.000000</td>\n",
              "      <td>0.000000</td>\n",
              "      <td>0.000000</td>\n",
              "      <td>0.000000</td>\n",
              "      <td>326.000000</td>\n",
              "    </tr>\n",
              "    <tr>\n",
              "      <th>50%</th>\n",
              "      <td>2017.000000</td>\n",
              "      <td>16.000000</td>\n",
              "      <td>0.000000</td>\n",
              "      <td>0.000000</td>\n",
              "      <td>8.000000</td>\n",
              "      <td>0.000000</td>\n",
              "      <td>2.000000</td>\n",
              "      <td>0.000000</td>\n",
              "      <td>976.000000</td>\n",
              "    </tr>\n",
              "    <tr>\n",
              "      <th>75%</th>\n",
              "      <td>2019.000000</td>\n",
              "      <td>27.000000</td>\n",
              "      <td>2.000000</td>\n",
              "      <td>2.000000</td>\n",
              "      <td>21.000000</td>\n",
              "      <td>2.000000</td>\n",
              "      <td>4.000000</td>\n",
              "      <td>0.000000</td>\n",
              "      <td>2004.000000</td>\n",
              "    </tr>\n",
              "    <tr>\n",
              "      <th>max</th>\n",
              "      <td>2020.000000</td>\n",
              "      <td>38.000000</td>\n",
              "      <td>48.000000</td>\n",
              "      <td>38.000000</td>\n",
              "      <td>227.000000</td>\n",
              "      <td>20.000000</td>\n",
              "      <td>17.000000</td>\n",
              "      <td>5.000000</td>\n",
              "      <td>3420.000000</td>\n",
              "    </tr>\n",
              "  </tbody>\n",
              "</table>\n",
              "</div>\n",
              "      <button class=\"colab-df-convert\" onclick=\"convertToInteractive('df-e61e16ba-be9d-46ea-a424-44042ab20b33')\"\n",
              "              title=\"Convert this dataframe to an interactive table.\"\n",
              "              style=\"display:none;\">\n",
              "        \n",
              "  <svg xmlns=\"http://www.w3.org/2000/svg\" height=\"24px\"viewBox=\"0 0 24 24\"\n",
              "       width=\"24px\">\n",
              "    <path d=\"M0 0h24v24H0V0z\" fill=\"none\"/>\n",
              "    <path d=\"M18.56 5.44l.94 2.06.94-2.06 2.06-.94-2.06-.94-.94-2.06-.94 2.06-2.06.94zm-11 1L8.5 8.5l.94-2.06 2.06-.94-2.06-.94L8.5 2.5l-.94 2.06-2.06.94zm10 10l.94 2.06.94-2.06 2.06-.94-2.06-.94-.94-2.06-.94 2.06-2.06.94z\"/><path d=\"M17.41 7.96l-1.37-1.37c-.4-.4-.92-.59-1.43-.59-.52 0-1.04.2-1.43.59L10.3 9.45l-7.72 7.72c-.78.78-.78 2.05 0 2.83L4 21.41c.39.39.9.59 1.41.59.51 0 1.02-.2 1.41-.59l7.78-7.78 2.81-2.81c.8-.78.8-2.07 0-2.86zM5.41 20L4 18.59l7.72-7.72 1.47 1.35L5.41 20z\"/>\n",
              "  </svg>\n",
              "      </button>\n",
              "      \n",
              "  <style>\n",
              "    .colab-df-container {\n",
              "      display:flex;\n",
              "      flex-wrap:wrap;\n",
              "      gap: 12px;\n",
              "    }\n",
              "\n",
              "    .colab-df-convert {\n",
              "      background-color: #E8F0FE;\n",
              "      border: none;\n",
              "      border-radius: 50%;\n",
              "      cursor: pointer;\n",
              "      display: none;\n",
              "      fill: #1967D2;\n",
              "      height: 32px;\n",
              "      padding: 0 0 0 0;\n",
              "      width: 32px;\n",
              "    }\n",
              "\n",
              "    .colab-df-convert:hover {\n",
              "      background-color: #E2EBFA;\n",
              "      box-shadow: 0px 1px 2px rgba(60, 64, 67, 0.3), 0px 1px 3px 1px rgba(60, 64, 67, 0.15);\n",
              "      fill: #174EA6;\n",
              "    }\n",
              "\n",
              "    [theme=dark] .colab-df-convert {\n",
              "      background-color: #3B4455;\n",
              "      fill: #D2E3FC;\n",
              "    }\n",
              "\n",
              "    [theme=dark] .colab-df-convert:hover {\n",
              "      background-color: #434B5C;\n",
              "      box-shadow: 0px 1px 3px 1px rgba(0, 0, 0, 0.15);\n",
              "      filter: drop-shadow(0px 1px 2px rgba(0, 0, 0, 0.3));\n",
              "      fill: #FFFFFF;\n",
              "    }\n",
              "  </style>\n",
              "\n",
              "      <script>\n",
              "        const buttonEl =\n",
              "          document.querySelector('#df-e61e16ba-be9d-46ea-a424-44042ab20b33 button.colab-df-convert');\n",
              "        buttonEl.style.display =\n",
              "          google.colab.kernel.accessAllowed ? 'block' : 'none';\n",
              "\n",
              "        async function convertToInteractive(key) {\n",
              "          const element = document.querySelector('#df-e61e16ba-be9d-46ea-a424-44042ab20b33');\n",
              "          const dataTable =\n",
              "            await google.colab.kernel.invokeFunction('convertToInteractive',\n",
              "                                                     [key], {});\n",
              "          if (!dataTable) return;\n",
              "\n",
              "          const docLinkHtml = 'Like what you see? Visit the ' +\n",
              "            '<a target=\"_blank\" href=https://colab.research.google.com/notebooks/data_table.ipynb>data table notebook</a>'\n",
              "            + ' to learn more about interactive tables.';\n",
              "          element.innerHTML = '';\n",
              "          dataTable['output_type'] = 'display_data';\n",
              "          await google.colab.output.renderOutput(dataTable, element);\n",
              "          const docLink = document.createElement('div');\n",
              "          docLink.innerHTML = docLinkHtml;\n",
              "          element.appendChild(docLink);\n",
              "        }\n",
              "      </script>\n",
              "    </div>\n",
              "  </div>\n",
              "  "
            ]
          },
          "metadata": {},
          "execution_count": 13
        }
      ],
      "execution_count": 13
    },
    {
      "cell_type": "markdown",
      "source": [
        "## Ordenar los datos"
      ],
      "metadata": {
        "tags": [],
        "cell_id": "62dce08bee51436293c4ddd3a9319f33",
        "deepnote_app_coordinates": {
          "h": 5,
          "w": 12,
          "x": 0,
          "y": 102
        },
        "deepnote_cell_type": "markdown",
        "id": "2Q2BJlq5zp2G"
      }
    },
    {
      "cell_type": "code",
      "source": [
        "df.sort_values('player_name', ascending=False)"
      ],
      "metadata": {
        "tags": [],
        "cell_id": "5e0fe537820c4bd9baf9a66920ce567e",
        "source_hash": "f08e4a05",
        "execution_start": 1645375718620,
        "execution_millis": 170,
        "deepnote_app_coordinates": {
          "h": 5,
          "w": 12,
          "x": 0,
          "y": 108
        },
        "deepnote_to_be_reexecuted": false,
        "deepnote_cell_type": "code",
        "colab": {
          "base_uri": "https://localhost:8080/",
          "height": 455
        },
        "id": "VMcfO6dKzp2G",
        "outputId": "241cb8c8-2d4d-4e20-dc8f-de991ab11de1"
      },
      "outputs": [
        {
          "output_type": "execute_result",
          "data": {
            "text/plain": [
              "               player_name  year  games  goals  npg  shots  assists  \\\n",
              "player_id                                                             \n",
              "250           Ørjan Nyland  2015      6      0    0      0        0   \n",
              "250           Ørjan Nyland  2016     12      0    0      0        0   \n",
              "250           Ørjan Nyland  2019      7      0    0      0        0   \n",
              "2646        Özkan Yildirim  2014      1      0    0      0        0   \n",
              "2646        Özkan Yildirim  2015      1      0    0      1        0   \n",
              "...                    ...   ...    ...    ...  ...    ...      ...   \n",
              "534        Aaron Cresswell  2018     20      0    0     11        1   \n",
              "534        Aaron Cresswell  2020     11      0    0      4        3   \n",
              "534        Aaron Cresswell  2019     31      3    3     18        0   \n",
              "7991        Aaron Connolly  2019     24      3    3     36        1   \n",
              "7991        Aaron Connolly  2020      8      1    1      9        1   \n",
              "\n",
              "           yellow_cards  red_cards position      team_name  time  \n",
              "player_id                                                         \n",
              "250                   0          0       GK     Ingolstadt   540  \n",
              "250                   0          0     GK S     Ingolstadt  1021  \n",
              "250                   0          0     GK S    Aston Villa   536  \n",
              "2646                  0          0        M  Werder Bremen    60  \n",
              "2646                  0          0        S  Werder Bremen    13  \n",
              "...                 ...        ...      ...            ...   ...  \n",
              "534                   1          0      D S       West Ham  1586  \n",
              "534                   0          0        D       West Ham   990  \n",
              "534                   7          0        D       West Ham  2739  \n",
              "7991                  0          0      F S       Brighton  1279  \n",
              "7991                  0          0      F S       Brighton   425  \n",
              "\n",
              "[18633 rows x 12 columns]"
            ],
            "text/html": [
              "\n",
              "  <div id=\"df-7fce5334-fe2c-480c-a4b1-8e0b1dceda34\">\n",
              "    <div class=\"colab-df-container\">\n",
              "      <div>\n",
              "<style scoped>\n",
              "    .dataframe tbody tr th:only-of-type {\n",
              "        vertical-align: middle;\n",
              "    }\n",
              "\n",
              "    .dataframe tbody tr th {\n",
              "        vertical-align: top;\n",
              "    }\n",
              "\n",
              "    .dataframe thead th {\n",
              "        text-align: right;\n",
              "    }\n",
              "</style>\n",
              "<table border=\"1\" class=\"dataframe\">\n",
              "  <thead>\n",
              "    <tr style=\"text-align: right;\">\n",
              "      <th></th>\n",
              "      <th>player_name</th>\n",
              "      <th>year</th>\n",
              "      <th>games</th>\n",
              "      <th>goals</th>\n",
              "      <th>npg</th>\n",
              "      <th>shots</th>\n",
              "      <th>assists</th>\n",
              "      <th>yellow_cards</th>\n",
              "      <th>red_cards</th>\n",
              "      <th>position</th>\n",
              "      <th>team_name</th>\n",
              "      <th>time</th>\n",
              "    </tr>\n",
              "    <tr>\n",
              "      <th>player_id</th>\n",
              "      <th></th>\n",
              "      <th></th>\n",
              "      <th></th>\n",
              "      <th></th>\n",
              "      <th></th>\n",
              "      <th></th>\n",
              "      <th></th>\n",
              "      <th></th>\n",
              "      <th></th>\n",
              "      <th></th>\n",
              "      <th></th>\n",
              "      <th></th>\n",
              "    </tr>\n",
              "  </thead>\n",
              "  <tbody>\n",
              "    <tr>\n",
              "      <th>250</th>\n",
              "      <td>Ørjan Nyland</td>\n",
              "      <td>2015</td>\n",
              "      <td>6</td>\n",
              "      <td>0</td>\n",
              "      <td>0</td>\n",
              "      <td>0</td>\n",
              "      <td>0</td>\n",
              "      <td>0</td>\n",
              "      <td>0</td>\n",
              "      <td>GK</td>\n",
              "      <td>Ingolstadt</td>\n",
              "      <td>540</td>\n",
              "    </tr>\n",
              "    <tr>\n",
              "      <th>250</th>\n",
              "      <td>Ørjan Nyland</td>\n",
              "      <td>2016</td>\n",
              "      <td>12</td>\n",
              "      <td>0</td>\n",
              "      <td>0</td>\n",
              "      <td>0</td>\n",
              "      <td>0</td>\n",
              "      <td>0</td>\n",
              "      <td>0</td>\n",
              "      <td>GK S</td>\n",
              "      <td>Ingolstadt</td>\n",
              "      <td>1021</td>\n",
              "    </tr>\n",
              "    <tr>\n",
              "      <th>250</th>\n",
              "      <td>Ørjan Nyland</td>\n",
              "      <td>2019</td>\n",
              "      <td>7</td>\n",
              "      <td>0</td>\n",
              "      <td>0</td>\n",
              "      <td>0</td>\n",
              "      <td>0</td>\n",
              "      <td>0</td>\n",
              "      <td>0</td>\n",
              "      <td>GK S</td>\n",
              "      <td>Aston Villa</td>\n",
              "      <td>536</td>\n",
              "    </tr>\n",
              "    <tr>\n",
              "      <th>2646</th>\n",
              "      <td>Özkan Yildirim</td>\n",
              "      <td>2014</td>\n",
              "      <td>1</td>\n",
              "      <td>0</td>\n",
              "      <td>0</td>\n",
              "      <td>0</td>\n",
              "      <td>0</td>\n",
              "      <td>0</td>\n",
              "      <td>0</td>\n",
              "      <td>M</td>\n",
              "      <td>Werder Bremen</td>\n",
              "      <td>60</td>\n",
              "    </tr>\n",
              "    <tr>\n",
              "      <th>2646</th>\n",
              "      <td>Özkan Yildirim</td>\n",
              "      <td>2015</td>\n",
              "      <td>1</td>\n",
              "      <td>0</td>\n",
              "      <td>0</td>\n",
              "      <td>1</td>\n",
              "      <td>0</td>\n",
              "      <td>0</td>\n",
              "      <td>0</td>\n",
              "      <td>S</td>\n",
              "      <td>Werder Bremen</td>\n",
              "      <td>13</td>\n",
              "    </tr>\n",
              "    <tr>\n",
              "      <th>...</th>\n",
              "      <td>...</td>\n",
              "      <td>...</td>\n",
              "      <td>...</td>\n",
              "      <td>...</td>\n",
              "      <td>...</td>\n",
              "      <td>...</td>\n",
              "      <td>...</td>\n",
              "      <td>...</td>\n",
              "      <td>...</td>\n",
              "      <td>...</td>\n",
              "      <td>...</td>\n",
              "      <td>...</td>\n",
              "    </tr>\n",
              "    <tr>\n",
              "      <th>534</th>\n",
              "      <td>Aaron Cresswell</td>\n",
              "      <td>2018</td>\n",
              "      <td>20</td>\n",
              "      <td>0</td>\n",
              "      <td>0</td>\n",
              "      <td>11</td>\n",
              "      <td>1</td>\n",
              "      <td>1</td>\n",
              "      <td>0</td>\n",
              "      <td>D S</td>\n",
              "      <td>West Ham</td>\n",
              "      <td>1586</td>\n",
              "    </tr>\n",
              "    <tr>\n",
              "      <th>534</th>\n",
              "      <td>Aaron Cresswell</td>\n",
              "      <td>2020</td>\n",
              "      <td>11</td>\n",
              "      <td>0</td>\n",
              "      <td>0</td>\n",
              "      <td>4</td>\n",
              "      <td>3</td>\n",
              "      <td>0</td>\n",
              "      <td>0</td>\n",
              "      <td>D</td>\n",
              "      <td>West Ham</td>\n",
              "      <td>990</td>\n",
              "    </tr>\n",
              "    <tr>\n",
              "      <th>534</th>\n",
              "      <td>Aaron Cresswell</td>\n",
              "      <td>2019</td>\n",
              "      <td>31</td>\n",
              "      <td>3</td>\n",
              "      <td>3</td>\n",
              "      <td>18</td>\n",
              "      <td>0</td>\n",
              "      <td>7</td>\n",
              "      <td>0</td>\n",
              "      <td>D</td>\n",
              "      <td>West Ham</td>\n",
              "      <td>2739</td>\n",
              "    </tr>\n",
              "    <tr>\n",
              "      <th>7991</th>\n",
              "      <td>Aaron Connolly</td>\n",
              "      <td>2019</td>\n",
              "      <td>24</td>\n",
              "      <td>3</td>\n",
              "      <td>3</td>\n",
              "      <td>36</td>\n",
              "      <td>1</td>\n",
              "      <td>0</td>\n",
              "      <td>0</td>\n",
              "      <td>F S</td>\n",
              "      <td>Brighton</td>\n",
              "      <td>1279</td>\n",
              "    </tr>\n",
              "    <tr>\n",
              "      <th>7991</th>\n",
              "      <td>Aaron Connolly</td>\n",
              "      <td>2020</td>\n",
              "      <td>8</td>\n",
              "      <td>1</td>\n",
              "      <td>1</td>\n",
              "      <td>9</td>\n",
              "      <td>1</td>\n",
              "      <td>0</td>\n",
              "      <td>0</td>\n",
              "      <td>F S</td>\n",
              "      <td>Brighton</td>\n",
              "      <td>425</td>\n",
              "    </tr>\n",
              "  </tbody>\n",
              "</table>\n",
              "<p>18633 rows × 12 columns</p>\n",
              "</div>\n",
              "      <button class=\"colab-df-convert\" onclick=\"convertToInteractive('df-7fce5334-fe2c-480c-a4b1-8e0b1dceda34')\"\n",
              "              title=\"Convert this dataframe to an interactive table.\"\n",
              "              style=\"display:none;\">\n",
              "        \n",
              "  <svg xmlns=\"http://www.w3.org/2000/svg\" height=\"24px\"viewBox=\"0 0 24 24\"\n",
              "       width=\"24px\">\n",
              "    <path d=\"M0 0h24v24H0V0z\" fill=\"none\"/>\n",
              "    <path d=\"M18.56 5.44l.94 2.06.94-2.06 2.06-.94-2.06-.94-.94-2.06-.94 2.06-2.06.94zm-11 1L8.5 8.5l.94-2.06 2.06-.94-2.06-.94L8.5 2.5l-.94 2.06-2.06.94zm10 10l.94 2.06.94-2.06 2.06-.94-2.06-.94-.94-2.06-.94 2.06-2.06.94z\"/><path d=\"M17.41 7.96l-1.37-1.37c-.4-.4-.92-.59-1.43-.59-.52 0-1.04.2-1.43.59L10.3 9.45l-7.72 7.72c-.78.78-.78 2.05 0 2.83L4 21.41c.39.39.9.59 1.41.59.51 0 1.02-.2 1.41-.59l7.78-7.78 2.81-2.81c.8-.78.8-2.07 0-2.86zM5.41 20L4 18.59l7.72-7.72 1.47 1.35L5.41 20z\"/>\n",
              "  </svg>\n",
              "      </button>\n",
              "      \n",
              "  <style>\n",
              "    .colab-df-container {\n",
              "      display:flex;\n",
              "      flex-wrap:wrap;\n",
              "      gap: 12px;\n",
              "    }\n",
              "\n",
              "    .colab-df-convert {\n",
              "      background-color: #E8F0FE;\n",
              "      border: none;\n",
              "      border-radius: 50%;\n",
              "      cursor: pointer;\n",
              "      display: none;\n",
              "      fill: #1967D2;\n",
              "      height: 32px;\n",
              "      padding: 0 0 0 0;\n",
              "      width: 32px;\n",
              "    }\n",
              "\n",
              "    .colab-df-convert:hover {\n",
              "      background-color: #E2EBFA;\n",
              "      box-shadow: 0px 1px 2px rgba(60, 64, 67, 0.3), 0px 1px 3px 1px rgba(60, 64, 67, 0.15);\n",
              "      fill: #174EA6;\n",
              "    }\n",
              "\n",
              "    [theme=dark] .colab-df-convert {\n",
              "      background-color: #3B4455;\n",
              "      fill: #D2E3FC;\n",
              "    }\n",
              "\n",
              "    [theme=dark] .colab-df-convert:hover {\n",
              "      background-color: #434B5C;\n",
              "      box-shadow: 0px 1px 3px 1px rgba(0, 0, 0, 0.15);\n",
              "      filter: drop-shadow(0px 1px 2px rgba(0, 0, 0, 0.3));\n",
              "      fill: #FFFFFF;\n",
              "    }\n",
              "  </style>\n",
              "\n",
              "      <script>\n",
              "        const buttonEl =\n",
              "          document.querySelector('#df-7fce5334-fe2c-480c-a4b1-8e0b1dceda34 button.colab-df-convert');\n",
              "        buttonEl.style.display =\n",
              "          google.colab.kernel.accessAllowed ? 'block' : 'none';\n",
              "\n",
              "        async function convertToInteractive(key) {\n",
              "          const element = document.querySelector('#df-7fce5334-fe2c-480c-a4b1-8e0b1dceda34');\n",
              "          const dataTable =\n",
              "            await google.colab.kernel.invokeFunction('convertToInteractive',\n",
              "                                                     [key], {});\n",
              "          if (!dataTable) return;\n",
              "\n",
              "          const docLinkHtml = 'Like what you see? Visit the ' +\n",
              "            '<a target=\"_blank\" href=https://colab.research.google.com/notebooks/data_table.ipynb>data table notebook</a>'\n",
              "            + ' to learn more about interactive tables.';\n",
              "          element.innerHTML = '';\n",
              "          dataTable['output_type'] = 'display_data';\n",
              "          await google.colab.output.renderOutput(dataTable, element);\n",
              "          const docLink = document.createElement('div');\n",
              "          docLink.innerHTML = docLinkHtml;\n",
              "          element.appendChild(docLink);\n",
              "        }\n",
              "      </script>\n",
              "    </div>\n",
              "  </div>\n",
              "  "
            ]
          },
          "metadata": {},
          "execution_count": 14
        }
      ],
      "execution_count": 14
    },
    {
      "cell_type": "code",
      "source": [
        "print(df.sort_values(['team_name', 'goals'], ascending=[True, False]).head(3))"
      ],
      "metadata": {
        "tags": [],
        "cell_id": "922b4bd8ea31488791998c6060eddbfe",
        "source_hash": "1d75dd26",
        "execution_start": 1645375718794,
        "execution_millis": 38,
        "deepnote_app_coordinates": {
          "h": 5,
          "w": 12,
          "x": 0,
          "y": 114
        },
        "deepnote_to_be_reexecuted": false,
        "deepnote_cell_type": "code",
        "colab": {
          "base_uri": "https://localhost:8080/"
        },
        "id": "HaGGckp6zp2G",
        "outputId": "b018f2b7-7821-4ea3-8540-c366296c79e3"
      },
      "outputs": [
        {
          "output_type": "stream",
          "name": "stdout",
          "text": [
            "            player_name  year  games  goals  npg  shots  assists  \\\n",
            "player_id                                                          \n",
            "1125       Carlos Bacca  2015     38     18   16     77        2   \n",
            "2014       Jérémy Menez  2014     33     16    8     78        4   \n",
            "1125       Carlos Bacca  2016     32     13    9     56        3   \n",
            "\n",
            "           yellow_cards  red_cards position team_name  time  \n",
            "player_id                                                    \n",
            "1125                  2          0      F S  AC Milan  3179  \n",
            "2014                  3          1    F M S  AC Milan  2713  \n",
            "1125                  3          0      F S  AC Milan  2152  \n"
          ]
        }
      ],
      "execution_count": 15
    },
    {
      "cell_type": "markdown",
      "source": [
        "## Subconjuntos y filtros de datos"
      ],
      "metadata": {
        "tags": [],
        "cell_id": "5659facc5a23459a8c84d20c1ba8a744",
        "deepnote_app_coordinates": {
          "h": 5,
          "w": 12,
          "x": 0,
          "y": 120
        },
        "deepnote_cell_type": "markdown",
        "id": "lcfocGbVzp2G"
      }
    },
    {
      "cell_type": "markdown",
      "source": [
        "### Subsetting columns"
      ],
      "metadata": {
        "tags": [],
        "cell_id": "425c30b727af446497deb77d50ca6fc0",
        "deepnote_app_coordinates": {
          "h": 5,
          "w": 12,
          "x": 0,
          "y": 126
        },
        "deepnote_cell_type": "markdown",
        "id": "2f2zSBFkzp2G"
      }
    },
    {
      "cell_type": "code",
      "source": [
        "df['team_name'].unique()"
      ],
      "metadata": {
        "tags": [],
        "cell_id": "2a54e205b60d47f0a8a829f873db3cb6",
        "source_hash": "3205009b",
        "execution_start": 1645375718840,
        "execution_millis": 5,
        "deepnote_output_heights": [
          611
        ],
        "deepnote_app_coordinates": {
          "h": 5,
          "w": 12,
          "x": 0,
          "y": 132
        },
        "deepnote_to_be_reexecuted": false,
        "deepnote_cell_type": "code",
        "colab": {
          "base_uri": "https://localhost:8080/"
        },
        "id": "SecDkVKlzp2G",
        "outputId": "f3ee87ee-bdb8-40d1-9651-8eac905e797c"
      },
      "outputs": [
        {
          "output_type": "execute_result",
          "data": {
            "text/plain": [
              "array(['Aston Villa', 'Everton', 'Southampton', 'Leicester',\n",
              "       'West Bromwich Albion', 'Crystal Palace', 'Chelsea', 'West Ham',\n",
              "       'Tottenham', 'Arsenal', 'Newcastle United', 'Liverpool',\n",
              "       'Manchester City', 'Manchester United', 'Burnley', 'Brighton',\n",
              "       'Fulham', 'Wolverhampton Wanderers', 'Sheffield United', 'Leeds',\n",
              "       'Sevilla', 'Real Sociedad', 'Getafe', 'Atletico Madrid',\n",
              "       'Valencia', 'Athletic Club', 'Barcelona', 'Real Madrid', 'Levante',\n",
              "       'Celta Vigo', 'Real Betis', 'Villarreal', 'Granada', 'Eibar',\n",
              "       'Osasuna', 'Alaves', 'Elche', 'Real Valladolid', 'SD Huesca',\n",
              "       'Cadiz', 'Verona', 'Roma', 'Lazio', 'Bologna', 'Juventus',\n",
              "       'Udinese', 'Genoa', 'Sampdoria', 'Sassuolo', 'Napoli', 'Inter',\n",
              "       'Atalanta', 'Fiorentina', 'AC Milan', 'Torino', 'Crotone',\n",
              "       'Cagliari', 'Benevento', 'Parma Calcio 1913', 'Spezia', 'Lille',\n",
              "       'Paris Saint Germain', 'Rennes', 'Marseille', 'Montpellier',\n",
              "       'Angers', 'Nantes', 'Nice', 'Monaco', 'Saint-Etienne', 'Bordeaux',\n",
              "       'Reims', 'Lyon', 'Lorient', 'Metz', 'Dijon', 'Lens', 'Strasbourg',\n",
              "       'Nimes', 'Brest', 'Bayern Munich', 'Bayer Leverkusen',\n",
              "       'Hoffenheim', 'Augsburg', 'Hertha Berlin', 'Werder Bremen',\n",
              "       'Schalke 04', 'Mainz 05', 'Borussia Dortmund',\n",
              "       'Borussia M.Gladbach', 'Wolfsburg', 'Eintracht Frankfurt',\n",
              "       'VfB Stuttgart', 'FC Cologne', 'Freiburg',\n",
              "       'RasenBallsport Leipzig', 'Union Berlin', 'Arminia Bielefeld',\n",
              "       'Bournemouth', 'Norwich', 'Watford', 'Espanyol', 'Leganes',\n",
              "       'Mallorca', 'SPAL 2013', 'Brescia', 'Lecce', 'Toulouse', 'Amiens',\n",
              "       'Paderborn', 'Fortuna Duesseldorf', 'Huddersfield', 'Cardiff',\n",
              "       'Rayo Vallecano', 'Girona', 'Empoli', 'Chievo', 'Frosinone',\n",
              "       'Caen', 'Guingamp', 'Hannover 96', 'Nuernberg', 'Swansea', 'Stoke',\n",
              "       'Malaga', 'Deportivo La Coruna', 'Las Palmas', 'Troyes',\n",
              "       'Hamburger SV', 'Sunderland', 'Hull', 'Middlesbrough',\n",
              "       'Sporting Gijon', 'Palermo', 'Pescara', 'SC Bastia', 'Nancy',\n",
              "       'Ingolstadt', 'Darmstadt', 'Carpi', 'GFC Ajaccio',\n",
              "       'Queens Park Rangers', 'Cordoba', 'Almeria', 'Cesena', 'Parma',\n",
              "       'Evian Thonon Gaillard'], dtype=object)"
            ]
          },
          "metadata": {},
          "execution_count": 16
        }
      ],
      "execution_count": 16
    },
    {
      "cell_type": "markdown",
      "source": [
        "### Filtrar filas"
      ],
      "metadata": {
        "tags": [],
        "cell_id": "7eeb0783e8aa4085b1309845f3d176cf",
        "deepnote_app_coordinates": {
          "h": 5,
          "w": 12,
          "x": 0,
          "y": 138
        },
        "deepnote_cell_type": "markdown",
        "id": "3zn727B4zp2H"
      }
    },
    {
      "cell_type": "code",
      "source": [
        "df[df.player_name=='Aaron Connolly']"
      ],
      "metadata": {
        "tags": [],
        "cell_id": "8b29bc900e1b4134aeb5b6549806c904",
        "source_hash": "1c5a0e1b",
        "execution_start": 1645375718896,
        "execution_millis": 51,
        "deepnote_app_coordinates": {
          "h": 5,
          "w": 12,
          "x": 0,
          "y": 144
        },
        "deepnote_to_be_reexecuted": false,
        "deepnote_cell_type": "code",
        "colab": {
          "base_uri": "https://localhost:8080/",
          "height": 143
        },
        "id": "R7RC9vomzp2H",
        "outputId": "4eab59cd-2fc0-415f-ea04-280eed05dba2"
      },
      "outputs": [
        {
          "output_type": "execute_result",
          "data": {
            "text/plain": [
              "              player_name  year  games  goals  npg  shots  assists  \\\n",
              "player_id                                                            \n",
              "7991       Aaron Connolly  2020      8      1    1      9        1   \n",
              "7991       Aaron Connolly  2019     24      3    3     36        1   \n",
              "\n",
              "           yellow_cards  red_cards position team_name  time  \n",
              "player_id                                                    \n",
              "7991                  0          0      F S  Brighton   425  \n",
              "7991                  0          0      F S  Brighton  1279  "
            ],
            "text/html": [
              "\n",
              "  <div id=\"df-6962fef4-c590-4b28-b810-7da1d3dc0744\">\n",
              "    <div class=\"colab-df-container\">\n",
              "      <div>\n",
              "<style scoped>\n",
              "    .dataframe tbody tr th:only-of-type {\n",
              "        vertical-align: middle;\n",
              "    }\n",
              "\n",
              "    .dataframe tbody tr th {\n",
              "        vertical-align: top;\n",
              "    }\n",
              "\n",
              "    .dataframe thead th {\n",
              "        text-align: right;\n",
              "    }\n",
              "</style>\n",
              "<table border=\"1\" class=\"dataframe\">\n",
              "  <thead>\n",
              "    <tr style=\"text-align: right;\">\n",
              "      <th></th>\n",
              "      <th>player_name</th>\n",
              "      <th>year</th>\n",
              "      <th>games</th>\n",
              "      <th>goals</th>\n",
              "      <th>npg</th>\n",
              "      <th>shots</th>\n",
              "      <th>assists</th>\n",
              "      <th>yellow_cards</th>\n",
              "      <th>red_cards</th>\n",
              "      <th>position</th>\n",
              "      <th>team_name</th>\n",
              "      <th>time</th>\n",
              "    </tr>\n",
              "    <tr>\n",
              "      <th>player_id</th>\n",
              "      <th></th>\n",
              "      <th></th>\n",
              "      <th></th>\n",
              "      <th></th>\n",
              "      <th></th>\n",
              "      <th></th>\n",
              "      <th></th>\n",
              "      <th></th>\n",
              "      <th></th>\n",
              "      <th></th>\n",
              "      <th></th>\n",
              "      <th></th>\n",
              "    </tr>\n",
              "  </thead>\n",
              "  <tbody>\n",
              "    <tr>\n",
              "      <th>7991</th>\n",
              "      <td>Aaron Connolly</td>\n",
              "      <td>2020</td>\n",
              "      <td>8</td>\n",
              "      <td>1</td>\n",
              "      <td>1</td>\n",
              "      <td>9</td>\n",
              "      <td>1</td>\n",
              "      <td>0</td>\n",
              "      <td>0</td>\n",
              "      <td>F S</td>\n",
              "      <td>Brighton</td>\n",
              "      <td>425</td>\n",
              "    </tr>\n",
              "    <tr>\n",
              "      <th>7991</th>\n",
              "      <td>Aaron Connolly</td>\n",
              "      <td>2019</td>\n",
              "      <td>24</td>\n",
              "      <td>3</td>\n",
              "      <td>3</td>\n",
              "      <td>36</td>\n",
              "      <td>1</td>\n",
              "      <td>0</td>\n",
              "      <td>0</td>\n",
              "      <td>F S</td>\n",
              "      <td>Brighton</td>\n",
              "      <td>1279</td>\n",
              "    </tr>\n",
              "  </tbody>\n",
              "</table>\n",
              "</div>\n",
              "      <button class=\"colab-df-convert\" onclick=\"convertToInteractive('df-6962fef4-c590-4b28-b810-7da1d3dc0744')\"\n",
              "              title=\"Convert this dataframe to an interactive table.\"\n",
              "              style=\"display:none;\">\n",
              "        \n",
              "  <svg xmlns=\"http://www.w3.org/2000/svg\" height=\"24px\"viewBox=\"0 0 24 24\"\n",
              "       width=\"24px\">\n",
              "    <path d=\"M0 0h24v24H0V0z\" fill=\"none\"/>\n",
              "    <path d=\"M18.56 5.44l.94 2.06.94-2.06 2.06-.94-2.06-.94-.94-2.06-.94 2.06-2.06.94zm-11 1L8.5 8.5l.94-2.06 2.06-.94-2.06-.94L8.5 2.5l-.94 2.06-2.06.94zm10 10l.94 2.06.94-2.06 2.06-.94-2.06-.94-.94-2.06-.94 2.06-2.06.94z\"/><path d=\"M17.41 7.96l-1.37-1.37c-.4-.4-.92-.59-1.43-.59-.52 0-1.04.2-1.43.59L10.3 9.45l-7.72 7.72c-.78.78-.78 2.05 0 2.83L4 21.41c.39.39.9.59 1.41.59.51 0 1.02-.2 1.41-.59l7.78-7.78 2.81-2.81c.8-.78.8-2.07 0-2.86zM5.41 20L4 18.59l7.72-7.72 1.47 1.35L5.41 20z\"/>\n",
              "  </svg>\n",
              "      </button>\n",
              "      \n",
              "  <style>\n",
              "    .colab-df-container {\n",
              "      display:flex;\n",
              "      flex-wrap:wrap;\n",
              "      gap: 12px;\n",
              "    }\n",
              "\n",
              "    .colab-df-convert {\n",
              "      background-color: #E8F0FE;\n",
              "      border: none;\n",
              "      border-radius: 50%;\n",
              "      cursor: pointer;\n",
              "      display: none;\n",
              "      fill: #1967D2;\n",
              "      height: 32px;\n",
              "      padding: 0 0 0 0;\n",
              "      width: 32px;\n",
              "    }\n",
              "\n",
              "    .colab-df-convert:hover {\n",
              "      background-color: #E2EBFA;\n",
              "      box-shadow: 0px 1px 2px rgba(60, 64, 67, 0.3), 0px 1px 3px 1px rgba(60, 64, 67, 0.15);\n",
              "      fill: #174EA6;\n",
              "    }\n",
              "\n",
              "    [theme=dark] .colab-df-convert {\n",
              "      background-color: #3B4455;\n",
              "      fill: #D2E3FC;\n",
              "    }\n",
              "\n",
              "    [theme=dark] .colab-df-convert:hover {\n",
              "      background-color: #434B5C;\n",
              "      box-shadow: 0px 1px 3px 1px rgba(0, 0, 0, 0.15);\n",
              "      filter: drop-shadow(0px 1px 2px rgba(0, 0, 0, 0.3));\n",
              "      fill: #FFFFFF;\n",
              "    }\n",
              "  </style>\n",
              "\n",
              "      <script>\n",
              "        const buttonEl =\n",
              "          document.querySelector('#df-6962fef4-c590-4b28-b810-7da1d3dc0744 button.colab-df-convert');\n",
              "        buttonEl.style.display =\n",
              "          google.colab.kernel.accessAllowed ? 'block' : 'none';\n",
              "\n",
              "        async function convertToInteractive(key) {\n",
              "          const element = document.querySelector('#df-6962fef4-c590-4b28-b810-7da1d3dc0744');\n",
              "          const dataTable =\n",
              "            await google.colab.kernel.invokeFunction('convertToInteractive',\n",
              "                                                     [key], {});\n",
              "          if (!dataTable) return;\n",
              "\n",
              "          const docLinkHtml = 'Like what you see? Visit the ' +\n",
              "            '<a target=\"_blank\" href=https://colab.research.google.com/notebooks/data_table.ipynb>data table notebook</a>'\n",
              "            + ' to learn more about interactive tables.';\n",
              "          element.innerHTML = '';\n",
              "          dataTable['output_type'] = 'display_data';\n",
              "          await google.colab.output.renderOutput(dataTable, element);\n",
              "          const docLink = document.createElement('div');\n",
              "          docLink.innerHTML = docLinkHtml;\n",
              "          element.appendChild(docLink);\n",
              "        }\n",
              "      </script>\n",
              "    </div>\n",
              "  </div>\n",
              "  "
            ]
          },
          "metadata": {},
          "execution_count": 17
        }
      ],
      "execution_count": 17
    },
    {
      "cell_type": "code",
      "source": [
        "df[df['player_name']=='Aaron Connolly']"
      ],
      "metadata": {
        "tags": [],
        "cell_id": "ffaddd6a6d724de09a4fdcac80e18106",
        "source_hash": "2271333e",
        "execution_start": 1645375719030,
        "execution_millis": 18,
        "deepnote_app_coordinates": {
          "h": 5,
          "w": 12,
          "x": 0,
          "y": 150
        },
        "deepnote_to_be_reexecuted": false,
        "deepnote_cell_type": "code",
        "colab": {
          "base_uri": "https://localhost:8080/",
          "height": 143
        },
        "id": "GydnEi6Lzp2H",
        "outputId": "f030b922-27da-4986-815e-29f93be382e6"
      },
      "outputs": [
        {
          "output_type": "execute_result",
          "data": {
            "text/plain": [
              "              player_name  year  games  goals  npg  shots  assists  \\\n",
              "player_id                                                            \n",
              "7991       Aaron Connolly  2020      8      1    1      9        1   \n",
              "7991       Aaron Connolly  2019     24      3    3     36        1   \n",
              "\n",
              "           yellow_cards  red_cards position team_name  time  \n",
              "player_id                                                    \n",
              "7991                  0          0      F S  Brighton   425  \n",
              "7991                  0          0      F S  Brighton  1279  "
            ],
            "text/html": [
              "\n",
              "  <div id=\"df-eb73b31a-c7a7-497a-b6ab-58ac57dcf9a6\">\n",
              "    <div class=\"colab-df-container\">\n",
              "      <div>\n",
              "<style scoped>\n",
              "    .dataframe tbody tr th:only-of-type {\n",
              "        vertical-align: middle;\n",
              "    }\n",
              "\n",
              "    .dataframe tbody tr th {\n",
              "        vertical-align: top;\n",
              "    }\n",
              "\n",
              "    .dataframe thead th {\n",
              "        text-align: right;\n",
              "    }\n",
              "</style>\n",
              "<table border=\"1\" class=\"dataframe\">\n",
              "  <thead>\n",
              "    <tr style=\"text-align: right;\">\n",
              "      <th></th>\n",
              "      <th>player_name</th>\n",
              "      <th>year</th>\n",
              "      <th>games</th>\n",
              "      <th>goals</th>\n",
              "      <th>npg</th>\n",
              "      <th>shots</th>\n",
              "      <th>assists</th>\n",
              "      <th>yellow_cards</th>\n",
              "      <th>red_cards</th>\n",
              "      <th>position</th>\n",
              "      <th>team_name</th>\n",
              "      <th>time</th>\n",
              "    </tr>\n",
              "    <tr>\n",
              "      <th>player_id</th>\n",
              "      <th></th>\n",
              "      <th></th>\n",
              "      <th></th>\n",
              "      <th></th>\n",
              "      <th></th>\n",
              "      <th></th>\n",
              "      <th></th>\n",
              "      <th></th>\n",
              "      <th></th>\n",
              "      <th></th>\n",
              "      <th></th>\n",
              "      <th></th>\n",
              "    </tr>\n",
              "  </thead>\n",
              "  <tbody>\n",
              "    <tr>\n",
              "      <th>7991</th>\n",
              "      <td>Aaron Connolly</td>\n",
              "      <td>2020</td>\n",
              "      <td>8</td>\n",
              "      <td>1</td>\n",
              "      <td>1</td>\n",
              "      <td>9</td>\n",
              "      <td>1</td>\n",
              "      <td>0</td>\n",
              "      <td>0</td>\n",
              "      <td>F S</td>\n",
              "      <td>Brighton</td>\n",
              "      <td>425</td>\n",
              "    </tr>\n",
              "    <tr>\n",
              "      <th>7991</th>\n",
              "      <td>Aaron Connolly</td>\n",
              "      <td>2019</td>\n",
              "      <td>24</td>\n",
              "      <td>3</td>\n",
              "      <td>3</td>\n",
              "      <td>36</td>\n",
              "      <td>1</td>\n",
              "      <td>0</td>\n",
              "      <td>0</td>\n",
              "      <td>F S</td>\n",
              "      <td>Brighton</td>\n",
              "      <td>1279</td>\n",
              "    </tr>\n",
              "  </tbody>\n",
              "</table>\n",
              "</div>\n",
              "      <button class=\"colab-df-convert\" onclick=\"convertToInteractive('df-eb73b31a-c7a7-497a-b6ab-58ac57dcf9a6')\"\n",
              "              title=\"Convert this dataframe to an interactive table.\"\n",
              "              style=\"display:none;\">\n",
              "        \n",
              "  <svg xmlns=\"http://www.w3.org/2000/svg\" height=\"24px\"viewBox=\"0 0 24 24\"\n",
              "       width=\"24px\">\n",
              "    <path d=\"M0 0h24v24H0V0z\" fill=\"none\"/>\n",
              "    <path d=\"M18.56 5.44l.94 2.06.94-2.06 2.06-.94-2.06-.94-.94-2.06-.94 2.06-2.06.94zm-11 1L8.5 8.5l.94-2.06 2.06-.94-2.06-.94L8.5 2.5l-.94 2.06-2.06.94zm10 10l.94 2.06.94-2.06 2.06-.94-2.06-.94-.94-2.06-.94 2.06-2.06.94z\"/><path d=\"M17.41 7.96l-1.37-1.37c-.4-.4-.92-.59-1.43-.59-.52 0-1.04.2-1.43.59L10.3 9.45l-7.72 7.72c-.78.78-.78 2.05 0 2.83L4 21.41c.39.39.9.59 1.41.59.51 0 1.02-.2 1.41-.59l7.78-7.78 2.81-2.81c.8-.78.8-2.07 0-2.86zM5.41 20L4 18.59l7.72-7.72 1.47 1.35L5.41 20z\"/>\n",
              "  </svg>\n",
              "      </button>\n",
              "      \n",
              "  <style>\n",
              "    .colab-df-container {\n",
              "      display:flex;\n",
              "      flex-wrap:wrap;\n",
              "      gap: 12px;\n",
              "    }\n",
              "\n",
              "    .colab-df-convert {\n",
              "      background-color: #E8F0FE;\n",
              "      border: none;\n",
              "      border-radius: 50%;\n",
              "      cursor: pointer;\n",
              "      display: none;\n",
              "      fill: #1967D2;\n",
              "      height: 32px;\n",
              "      padding: 0 0 0 0;\n",
              "      width: 32px;\n",
              "    }\n",
              "\n",
              "    .colab-df-convert:hover {\n",
              "      background-color: #E2EBFA;\n",
              "      box-shadow: 0px 1px 2px rgba(60, 64, 67, 0.3), 0px 1px 3px 1px rgba(60, 64, 67, 0.15);\n",
              "      fill: #174EA6;\n",
              "    }\n",
              "\n",
              "    [theme=dark] .colab-df-convert {\n",
              "      background-color: #3B4455;\n",
              "      fill: #D2E3FC;\n",
              "    }\n",
              "\n",
              "    [theme=dark] .colab-df-convert:hover {\n",
              "      background-color: #434B5C;\n",
              "      box-shadow: 0px 1px 3px 1px rgba(0, 0, 0, 0.15);\n",
              "      filter: drop-shadow(0px 1px 2px rgba(0, 0, 0, 0.3));\n",
              "      fill: #FFFFFF;\n",
              "    }\n",
              "  </style>\n",
              "\n",
              "      <script>\n",
              "        const buttonEl =\n",
              "          document.querySelector('#df-eb73b31a-c7a7-497a-b6ab-58ac57dcf9a6 button.colab-df-convert');\n",
              "        buttonEl.style.display =\n",
              "          google.colab.kernel.accessAllowed ? 'block' : 'none';\n",
              "\n",
              "        async function convertToInteractive(key) {\n",
              "          const element = document.querySelector('#df-eb73b31a-c7a7-497a-b6ab-58ac57dcf9a6');\n",
              "          const dataTable =\n",
              "            await google.colab.kernel.invokeFunction('convertToInteractive',\n",
              "                                                     [key], {});\n",
              "          if (!dataTable) return;\n",
              "\n",
              "          const docLinkHtml = 'Like what you see? Visit the ' +\n",
              "            '<a target=\"_blank\" href=https://colab.research.google.com/notebooks/data_table.ipynb>data table notebook</a>'\n",
              "            + ' to learn more about interactive tables.';\n",
              "          element.innerHTML = '';\n",
              "          dataTable['output_type'] = 'display_data';\n",
              "          await google.colab.output.renderOutput(dataTable, element);\n",
              "          const docLink = document.createElement('div');\n",
              "          docLink.innerHTML = docLinkHtml;\n",
              "          element.appendChild(docLink);\n",
              "        }\n",
              "      </script>\n",
              "    </div>\n",
              "  </div>\n",
              "  "
            ]
          },
          "metadata": {},
          "execution_count": 18
        }
      ],
      "execution_count": 18
    },
    {
      "cell_type": "code",
      "source": [
        "df.query('player_name == \"Aaron Connolly\"')"
      ],
      "metadata": {
        "tags": [],
        "cell_id": "6773af81e3024ed8bea5dcf2903edf9e",
        "source_hash": "bb85a5c3",
        "execution_start": 1645375719100,
        "execution_millis": 36,
        "deepnote_app_coordinates": {
          "h": 5,
          "w": 12,
          "x": 0,
          "y": 156
        },
        "deepnote_to_be_reexecuted": false,
        "deepnote_cell_type": "code",
        "colab": {
          "base_uri": "https://localhost:8080/",
          "height": 143
        },
        "id": "fEmaZCoIzp2H",
        "outputId": "db7733cc-29d1-4781-b3a3-e833e414ba66"
      },
      "outputs": [
        {
          "output_type": "execute_result",
          "data": {
            "text/plain": [
              "              player_name  year  games  goals  npg  shots  assists  \\\n",
              "player_id                                                            \n",
              "7991       Aaron Connolly  2020      8      1    1      9        1   \n",
              "7991       Aaron Connolly  2019     24      3    3     36        1   \n",
              "\n",
              "           yellow_cards  red_cards position team_name  time  \n",
              "player_id                                                    \n",
              "7991                  0          0      F S  Brighton   425  \n",
              "7991                  0          0      F S  Brighton  1279  "
            ],
            "text/html": [
              "\n",
              "  <div id=\"df-89982cd9-4deb-4c00-a198-088c4d201564\">\n",
              "    <div class=\"colab-df-container\">\n",
              "      <div>\n",
              "<style scoped>\n",
              "    .dataframe tbody tr th:only-of-type {\n",
              "        vertical-align: middle;\n",
              "    }\n",
              "\n",
              "    .dataframe tbody tr th {\n",
              "        vertical-align: top;\n",
              "    }\n",
              "\n",
              "    .dataframe thead th {\n",
              "        text-align: right;\n",
              "    }\n",
              "</style>\n",
              "<table border=\"1\" class=\"dataframe\">\n",
              "  <thead>\n",
              "    <tr style=\"text-align: right;\">\n",
              "      <th></th>\n",
              "      <th>player_name</th>\n",
              "      <th>year</th>\n",
              "      <th>games</th>\n",
              "      <th>goals</th>\n",
              "      <th>npg</th>\n",
              "      <th>shots</th>\n",
              "      <th>assists</th>\n",
              "      <th>yellow_cards</th>\n",
              "      <th>red_cards</th>\n",
              "      <th>position</th>\n",
              "      <th>team_name</th>\n",
              "      <th>time</th>\n",
              "    </tr>\n",
              "    <tr>\n",
              "      <th>player_id</th>\n",
              "      <th></th>\n",
              "      <th></th>\n",
              "      <th></th>\n",
              "      <th></th>\n",
              "      <th></th>\n",
              "      <th></th>\n",
              "      <th></th>\n",
              "      <th></th>\n",
              "      <th></th>\n",
              "      <th></th>\n",
              "      <th></th>\n",
              "      <th></th>\n",
              "    </tr>\n",
              "  </thead>\n",
              "  <tbody>\n",
              "    <tr>\n",
              "      <th>7991</th>\n",
              "      <td>Aaron Connolly</td>\n",
              "      <td>2020</td>\n",
              "      <td>8</td>\n",
              "      <td>1</td>\n",
              "      <td>1</td>\n",
              "      <td>9</td>\n",
              "      <td>1</td>\n",
              "      <td>0</td>\n",
              "      <td>0</td>\n",
              "      <td>F S</td>\n",
              "      <td>Brighton</td>\n",
              "      <td>425</td>\n",
              "    </tr>\n",
              "    <tr>\n",
              "      <th>7991</th>\n",
              "      <td>Aaron Connolly</td>\n",
              "      <td>2019</td>\n",
              "      <td>24</td>\n",
              "      <td>3</td>\n",
              "      <td>3</td>\n",
              "      <td>36</td>\n",
              "      <td>1</td>\n",
              "      <td>0</td>\n",
              "      <td>0</td>\n",
              "      <td>F S</td>\n",
              "      <td>Brighton</td>\n",
              "      <td>1279</td>\n",
              "    </tr>\n",
              "  </tbody>\n",
              "</table>\n",
              "</div>\n",
              "      <button class=\"colab-df-convert\" onclick=\"convertToInteractive('df-89982cd9-4deb-4c00-a198-088c4d201564')\"\n",
              "              title=\"Convert this dataframe to an interactive table.\"\n",
              "              style=\"display:none;\">\n",
              "        \n",
              "  <svg xmlns=\"http://www.w3.org/2000/svg\" height=\"24px\"viewBox=\"0 0 24 24\"\n",
              "       width=\"24px\">\n",
              "    <path d=\"M0 0h24v24H0V0z\" fill=\"none\"/>\n",
              "    <path d=\"M18.56 5.44l.94 2.06.94-2.06 2.06-.94-2.06-.94-.94-2.06-.94 2.06-2.06.94zm-11 1L8.5 8.5l.94-2.06 2.06-.94-2.06-.94L8.5 2.5l-.94 2.06-2.06.94zm10 10l.94 2.06.94-2.06 2.06-.94-2.06-.94-.94-2.06-.94 2.06-2.06.94z\"/><path d=\"M17.41 7.96l-1.37-1.37c-.4-.4-.92-.59-1.43-.59-.52 0-1.04.2-1.43.59L10.3 9.45l-7.72 7.72c-.78.78-.78 2.05 0 2.83L4 21.41c.39.39.9.59 1.41.59.51 0 1.02-.2 1.41-.59l7.78-7.78 2.81-2.81c.8-.78.8-2.07 0-2.86zM5.41 20L4 18.59l7.72-7.72 1.47 1.35L5.41 20z\"/>\n",
              "  </svg>\n",
              "      </button>\n",
              "      \n",
              "  <style>\n",
              "    .colab-df-container {\n",
              "      display:flex;\n",
              "      flex-wrap:wrap;\n",
              "      gap: 12px;\n",
              "    }\n",
              "\n",
              "    .colab-df-convert {\n",
              "      background-color: #E8F0FE;\n",
              "      border: none;\n",
              "      border-radius: 50%;\n",
              "      cursor: pointer;\n",
              "      display: none;\n",
              "      fill: #1967D2;\n",
              "      height: 32px;\n",
              "      padding: 0 0 0 0;\n",
              "      width: 32px;\n",
              "    }\n",
              "\n",
              "    .colab-df-convert:hover {\n",
              "      background-color: #E2EBFA;\n",
              "      box-shadow: 0px 1px 2px rgba(60, 64, 67, 0.3), 0px 1px 3px 1px rgba(60, 64, 67, 0.15);\n",
              "      fill: #174EA6;\n",
              "    }\n",
              "\n",
              "    [theme=dark] .colab-df-convert {\n",
              "      background-color: #3B4455;\n",
              "      fill: #D2E3FC;\n",
              "    }\n",
              "\n",
              "    [theme=dark] .colab-df-convert:hover {\n",
              "      background-color: #434B5C;\n",
              "      box-shadow: 0px 1px 3px 1px rgba(0, 0, 0, 0.15);\n",
              "      filter: drop-shadow(0px 1px 2px rgba(0, 0, 0, 0.3));\n",
              "      fill: #FFFFFF;\n",
              "    }\n",
              "  </style>\n",
              "\n",
              "      <script>\n",
              "        const buttonEl =\n",
              "          document.querySelector('#df-89982cd9-4deb-4c00-a198-088c4d201564 button.colab-df-convert');\n",
              "        buttonEl.style.display =\n",
              "          google.colab.kernel.accessAllowed ? 'block' : 'none';\n",
              "\n",
              "        async function convertToInteractive(key) {\n",
              "          const element = document.querySelector('#df-89982cd9-4deb-4c00-a198-088c4d201564');\n",
              "          const dataTable =\n",
              "            await google.colab.kernel.invokeFunction('convertToInteractive',\n",
              "                                                     [key], {});\n",
              "          if (!dataTable) return;\n",
              "\n",
              "          const docLinkHtml = 'Like what you see? Visit the ' +\n",
              "            '<a target=\"_blank\" href=https://colab.research.google.com/notebooks/data_table.ipynb>data table notebook</a>'\n",
              "            + ' to learn more about interactive tables.';\n",
              "          element.innerHTML = '';\n",
              "          dataTable['output_type'] = 'display_data';\n",
              "          await google.colab.output.renderOutput(dataTable, element);\n",
              "          const docLink = document.createElement('div');\n",
              "          docLink.innerHTML = docLinkHtml;\n",
              "          element.appendChild(docLink);\n",
              "        }\n",
              "      </script>\n",
              "    </div>\n",
              "  </div>\n",
              "  "
            ]
          },
          "metadata": {},
          "execution_count": 19
        }
      ],
      "execution_count": 19
    },
    {
      "cell_type": "markdown",
      "source": [
        "#### Uniendo lo aprendido"
      ],
      "metadata": {
        "tags": [],
        "cell_id": "452c5be8eb41479fae26f5165a25588f",
        "deepnote_app_coordinates": {
          "h": 5,
          "w": 12,
          "x": 0,
          "y": 162
        },
        "deepnote_cell_type": "markdown",
        "id": "lzCkYMnIzp2H"
      }
    },
    {
      "cell_type": "code",
      "source": [
        "# Goles de Cristiano Ronaldo en 2014\n",
        "cr7 = df[(df.player_name == 'Cristiano Ronaldo') & (df.year == 2014)]\n",
        "cols = ['player_name', 'year', 'goals']\n",
        "print(cr7[cols])"
      ],
      "metadata": {
        "tags": [],
        "cell_id": "5e60ea8c6ae348f19b63a205969a0761",
        "source_hash": "11b32cdb",
        "execution_start": 1645375719184,
        "execution_millis": 3,
        "deepnote_app_coordinates": {
          "h": 5,
          "w": 12,
          "x": 0,
          "y": 168
        },
        "deepnote_to_be_reexecuted": false,
        "deepnote_cell_type": "code",
        "colab": {
          "base_uri": "https://localhost:8080/"
        },
        "id": "sufmqLokzp2H",
        "outputId": "7889e246-aad9-4a5d-8d3c-723dfe56d2b9"
      },
      "outputs": [
        {
          "output_type": "stream",
          "name": "stdout",
          "text": [
            "                 player_name  year  goals\n",
            "player_id                                \n",
            "2371       Cristiano Ronaldo  2014     48\n"
          ]
        }
      ],
      "execution_count": 20
    },
    {
      "cell_type": "code",
      "source": [
        "# Goles de Ronaldo, Messi y Suárez en 2015\n",
        "players = ['Cristiano Ronaldo', 'Lionel Messi', 'Luis Suárez']\n",
        "top_players = df[(df.player_name.isin(players)) & (df.year == 2015)]\n",
        "print(top_players[cols])"
      ],
      "metadata": {
        "tags": [],
        "cell_id": "3614067d5ea14bc993a1e9ede6d5d9ba",
        "source_hash": "a7f4ca78",
        "execution_start": 1645375719185,
        "execution_millis": 2,
        "deepnote_app_coordinates": {
          "h": 5,
          "w": 12,
          "x": 0,
          "y": 174
        },
        "deepnote_to_be_reexecuted": false,
        "deepnote_cell_type": "code",
        "colab": {
          "base_uri": "https://localhost:8080/"
        },
        "id": "KISlzokazp2H",
        "outputId": "ead9e8b3-5afc-4f0d-946b-a2588e3f1537"
      },
      "outputs": [
        {
          "output_type": "stream",
          "name": "stdout",
          "text": [
            "                 player_name  year  goals\n",
            "player_id                                \n",
            "2098             Luis Suárez  2015     40\n",
            "2097            Lionel Messi  2015     26\n",
            "2371       Cristiano Ronaldo  2015     35\n"
          ]
        }
      ],
      "execution_count": 21
    },
    {
      "cell_type": "markdown",
      "source": [
        "### Subsetting con .loc"
      ],
      "metadata": {
        "tags": [],
        "cell_id": "3248da23affb41cf8af4a0b9701471f7",
        "deepnote_app_coordinates": {
          "h": 5,
          "w": 12,
          "x": 0,
          "y": 180
        },
        "deepnote_cell_type": "markdown",
        "id": "_ty_7dpKzp2I"
      }
    },
    {
      "cell_type": "code",
      "source": [
        "# Goles de Ronaldo, Messi y Suárez en 2015\n",
        "df = df.reset_index()\n",
        "df = df.set_index('player_name')\n",
        "players = ['Cristiano Ronaldo', 'Lionel Messi', 'Luis Suárez']\n",
        "cols = ['year', 'goals']\n",
        "top_players = df.loc[players, cols]\n",
        "print(top_players.query('year==2015'))"
      ],
      "metadata": {
        "tags": [],
        "cell_id": "bd8745b60d83418ebc7b629c38f3d99a",
        "source_hash": "47bb4f7a",
        "execution_start": 1645375719229,
        "execution_millis": 12,
        "deepnote_app_coordinates": {
          "h": 5,
          "w": 12,
          "x": 0,
          "y": 186
        },
        "deepnote_to_be_reexecuted": false,
        "deepnote_cell_type": "code",
        "colab": {
          "base_uri": "https://localhost:8080/"
        },
        "id": "nQLn5WoCzp2I",
        "outputId": "7df1c713-c53a-44ae-94d1-4ff41e442c74"
      },
      "outputs": [
        {
          "output_type": "stream",
          "name": "stdout",
          "text": [
            "                   year  goals\n",
            "player_name                   \n",
            "Cristiano Ronaldo  2015     35\n",
            "Lionel Messi       2015     26\n",
            "Luis Suárez        2015     40\n"
          ]
        }
      ],
      "execution_count": 22
    },
    {
      "cell_type": "markdown",
      "source": [
        "## Aplicar funciones a un DataFrame\n",
        "\n",
        "- `.sum()` → suma todos los valores de una columna.\n",
        "- `.mean()` → promedio de los valores de una columna.\n",
        "- `.max()` → valor máximo de una columna.\n",
        "- `.min()` → valor mínimo de una columna.\n",
        "- `.cumsum()` → en cada fila va poniendo la suma acumulada de una columna.\n",
        "- `.cummax()` → en cada fila va poniendo el valor máximo encontrado en orden de una columna.\n",
        "- `.value_counts(sort=True)` → cuenta los distintos valores que existen en una columna (muy útil para contar categorías) y los ordena descendientemente.\n",
        "- `.drop_duplicates(subset='col_name')` → elimina duplicados en una columna.\n",
        "\n",
        "También es posible pasar funciones que nosotros mismos hayamos creado u otras funciones importadas de otras librerías. Para ello se usa `.agg(function)`."
      ],
      "metadata": {
        "tags": [],
        "cell_id": "01467386e564455cbdc412e6478dcca2",
        "deepnote_app_coordinates": {
          "h": 5,
          "w": 12,
          "x": 0,
          "y": 192
        },
        "deepnote_cell_type": "markdown",
        "id": "wQQc8FKtzp2I"
      }
    },
    {
      "cell_type": "code",
      "source": [
        "# Máxima cantidad de goles hechas por un jugador en una temporada\n",
        "\n",
        "max_goals = df['goals'].max()\n",
        "cols = ['goals', 'year', 'team_name']\n",
        "print(df[df.goals == max_goals][cols])"
      ],
      "metadata": {
        "tags": [],
        "cell_id": "5568cfb91aba43be91aa4e45efb95bdb",
        "source_hash": "be9a5c83",
        "execution_start": 1645375719250,
        "execution_millis": 2,
        "deepnote_app_coordinates": {
          "h": 5,
          "w": 12,
          "x": 0,
          "y": 198
        },
        "deepnote_to_be_reexecuted": false,
        "deepnote_cell_type": "code",
        "colab": {
          "base_uri": "https://localhost:8080/"
        },
        "id": "mIQyHUrazp2I",
        "outputId": "516ec77b-7bd0-457a-fe77-56b0f523e455"
      },
      "outputs": [
        {
          "output_type": "stream",
          "name": "stdout",
          "text": [
            "                   goals  year    team_name\n",
            "player_name                                \n",
            "Cristiano Ronaldo     48  2014  Real Madrid\n"
          ]
        }
      ],
      "execution_count": 23
    },
    {
      "cell_type": "code",
      "source": [
        "# Porcentaje de disparos al arco que terminan en gol\n",
        "total_shots = df['shots'].sum()\n",
        "total_goals = df['goals'].sum()\n",
        "print(round(total_goals / total_shots * 100, 2))"
      ],
      "metadata": {
        "tags": [],
        "cell_id": "ec4351993af64112914611b2d5ad8aa7",
        "source_hash": "498ecace",
        "execution_start": 1645375719285,
        "execution_millis": 1335722,
        "deepnote_app_coordinates": {
          "h": 5,
          "w": 12,
          "x": 0,
          "y": 204
        },
        "deepnote_to_be_reexecuted": false,
        "deepnote_cell_type": "code",
        "colab": {
          "base_uri": "https://localhost:8080/"
        },
        "id": "YCnVUOCSzp2I",
        "outputId": "7b12e9e3-f69f-4bf7-b7f2-4a7f6c7ca02b"
      },
      "outputs": [
        {
          "output_type": "stream",
          "name": "stdout",
          "text": [
            "10.6\n"
          ]
        }
      ],
      "execution_count": 24
    },
    {
      "cell_type": "markdown",
      "source": [
        "## Agrupar datos\n",
        "\n",
        "- `df.groupby()`"
      ],
      "metadata": {
        "tags": [],
        "cell_id": "4b23db51f068423680ac7f7e5d4f82b2",
        "deepnote_app_coordinates": {
          "h": 5,
          "w": 12,
          "x": 0,
          "y": 276
        },
        "deepnote_cell_type": "markdown",
        "id": "I8jnEK6pzp2J"
      }
    },
    {
      "cell_type": "code",
      "source": [
        "# Top 10 jugadores que más goles han marcado\n",
        "top_players = df.groupby('player_name')['goals'].sum()\n",
        "print(top_players.sort_values(ascending=False).head(10))"
      ],
      "metadata": {
        "tags": [],
        "cell_id": "9638504f55914b1486aeee1d5f3eec2f",
        "source_hash": "b57ac6c9",
        "execution_start": 1645375719309,
        "execution_millis": 1335745,
        "deepnote_app_coordinates": {
          "h": 5,
          "w": 12,
          "x": 0,
          "y": 216
        },
        "deepnote_to_be_reexecuted": false,
        "deepnote_cell_type": "code",
        "colab": {
          "base_uri": "https://localhost:8080/"
        },
        "id": "fEIMFilOzp2J",
        "outputId": "6b90dc6c-ff2a-4b9b-ffa4-8afe0de5df4d"
      },
      "outputs": [
        {
          "output_type": "stream",
          "name": "stdout",
          "text": [
            "player_name\n",
            "Lionel Messi                 205\n",
            "Cristiano Ronaldo            194\n",
            "Robert Lewandowski           174\n",
            "Luis Suárez                  154\n",
            "Harry Kane                   148\n",
            "Pierre-Emerick Aubameyang    141\n",
            "Sergio Agüero                128\n",
            "Edinson Cavani               125\n",
            "Ciro Immobile                119\n",
            "Mohamed Salah                117\n",
            "Name: goals, dtype: int64\n"
          ]
        }
      ],
      "execution_count": 25
    },
    {
      "cell_type": "code",
      "source": [
        "# Top 5 equipos con más tarjetas rojas y amarillas\n",
        "red_cards = df.groupby('team_name')[['red_cards', 'yellow_cards']].sum()\n",
        "print(red_cards.sort_values('red_cards', ascending=False).head())"
      ],
      "metadata": {
        "tags": [],
        "cell_id": "b3a268b5000c406896571862e03aca81",
        "source_hash": "40cc2f7f",
        "execution_start": 1645375719392,
        "execution_millis": 1335732,
        "deepnote_app_coordinates": {
          "h": 5,
          "w": 12,
          "x": 0,
          "y": 222
        },
        "deepnote_to_be_reexecuted": false,
        "deepnote_cell_type": "code",
        "colab": {
          "base_uri": "https://localhost:8080/"
        },
        "id": "I7vzN7YZzp2J",
        "outputId": "e6b198e8-b9cf-46cb-d888-0a79d908e868"
      },
      "outputs": [
        {
          "output_type": "stream",
          "name": "stdout",
          "text": [
            "           red_cards  yellow_cards\n",
            "team_name                         \n",
            "AC Milan          43           513\n",
            "Genoa             42           562\n",
            "Valencia          39           598\n",
            "Bologna           38           477\n",
            "Lazio             35           576\n"
          ]
        }
      ],
      "execution_count": 26
    },
    {
      "cell_type": "markdown",
      "source": [
        "## Crear columnas"
      ],
      "metadata": {
        "tags": [],
        "cell_id": "e5d980ccc5e5412daee166fd4f0fa553",
        "deepnote_app_coordinates": {
          "h": 5,
          "w": 12,
          "x": 0,
          "y": 228
        },
        "deepnote_cell_type": "markdown",
        "id": "Lvmysg3Hzp2J"
      }
    },
    {
      "cell_type": "code",
      "source": [
        "df['goals_assists'] = df.goals + df.assists\n",
        "best_players = df.groupby('player_name')['goals_assists'].sum()\n",
        "print(best_players.sort_values(ascending=False).head())"
      ],
      "metadata": {
        "tags": [],
        "cell_id": "86e9a83a52b244f0ae8fdf7a7f773878",
        "source_hash": "4fcb4094",
        "execution_start": 1645375719394,
        "execution_millis": 1335784,
        "deepnote_app_coordinates": {
          "h": 5,
          "w": 12,
          "x": 0,
          "y": 234
        },
        "deepnote_to_be_reexecuted": false,
        "deepnote_cell_type": "code",
        "colab": {
          "base_uri": "https://localhost:8080/"
        },
        "id": "0EqSfTmszp2J",
        "outputId": "95747995-faad-4fae-9323-3cc5e9aa32ec"
      },
      "outputs": [
        {
          "output_type": "stream",
          "name": "stdout",
          "text": [
            "player_name\n",
            "Lionel Messi          293\n",
            "Cristiano Ronaldo     246\n",
            "Luis Suárez           224\n",
            "Robert Lewandowski    203\n",
            "Harry Kane            178\n",
            "Name: goals_assists, dtype: int64\n"
          ]
        }
      ],
      "execution_count": 27
    },
    {
      "cell_type": "markdown",
      "source": [
        "# Ejercicios\n",
        "\n",
        "1. Usa `df.describe()` y cuéntanos todos los insights que te dio y qué podría significar cada uno.\n",
        "2. Encuentra la cantidad de goles totales hechos por cada posición.\n",
        "3. ¿Cuál es el jugador que más tiempo ha jugado y cuál es la media de tiempo de todos los jugadores? *Esta pregunta tiene truco porque hay muchos jugadores suplentes que no juegan casi nunca y van a sesgar los datos, ¿cómo podrías solucionar esto?*\n",
        "4. ¿Qué posición es la que más tiempo juega? ¿Y la que menos?\n",
        "5. ¿Qué porcentaje de goles son hechos por penales? *La columna* `npg` *significa: goles hechos SIN penales.*\n",
        "6. ¿Qué porcentaje de goles son hechos con asistencias?\n",
        "7. ¿Cuál fue el equipo que más goles hizo cada año? ¿Salió campeón ese año?\n",
        "8. ¿Cuántos jugadores jugaron todos los años del dataset? ¿Qué porcentaje del total representan?"
      ],
      "metadata": {
        "tags": [],
        "cell_id": "a86d39ceb0c14a5cbf105489207d2685",
        "deepnote_app_coordinates": {
          "h": 5,
          "w": 12,
          "x": 0,
          "y": 240
        },
        "deepnote_cell_type": "markdown",
        "id": "J6tceuxUzp2J"
      }
    },
    {
      "cell_type": "code",
      "source": [
        "# Aquí tu súper código. ¡Tú puedes!"
      ],
      "metadata": {
        "tags": [],
        "cell_id": "f4764330c720490098ab757e5a237527",
        "source_hash": "370808a5",
        "execution_start": 1645375719413,
        "execution_millis": 1335756,
        "deepnote_app_coordinates": {
          "h": 5,
          "w": 12,
          "x": 0,
          "y": 246
        },
        "deepnote_to_be_reexecuted": false,
        "deepnote_cell_type": "code",
        "id": "01bWn2aTzp2J"
      },
      "outputs": [],
      "execution_count": 28
    },
    {
      "cell_type": "code",
      "source": [
        "goals_by_team_by_year = df.groupby([\"year\",\"team_name\"])[\"goals\"].sum()\n",
        "goals_by_team_by_year.sort_values(ascending=False).reset_index().drop_duplicates('year')"
      ],
      "metadata": {
        "tags": [],
        "cell_id": "8a7834f1b700458990f43c8e82fdf10d",
        "source_hash": "5bbc1257",
        "execution_start": 1645375719414,
        "execution_millis": 2,
        "deepnote_app_coordinates": {
          "h": 5,
          "w": 12,
          "x": 0,
          "y": 0
        },
        "deepnote_to_be_reexecuted": false,
        "deepnote_cell_type": "code",
        "colab": {
          "base_uri": "https://localhost:8080/",
          "height": 269
        },
        "id": "iRCsJShZzp2K",
        "outputId": "a3cf1dfb-23e9-4841-f0cb-e5fe57a97e7f"
      },
      "outputs": [
        {
          "output_type": "execute_result",
          "data": {
            "text/plain": [
              "     year            team_name  goals\n",
              "0    2014          Real Madrid    116\n",
              "1    2016            Barcelona    114\n",
              "2    2015            Barcelona    109\n",
              "6    2018  Paris Saint Germain    103\n",
              "8    2017      Manchester City    103\n",
              "11   2019      Manchester City    100\n",
              "492  2020        Bayern Munich     34"
            ],
            "text/html": [
              "\n",
              "  <div id=\"df-bc4b5feb-28cb-480e-b1a8-3b05cb303cc0\">\n",
              "    <div class=\"colab-df-container\">\n",
              "      <div>\n",
              "<style scoped>\n",
              "    .dataframe tbody tr th:only-of-type {\n",
              "        vertical-align: middle;\n",
              "    }\n",
              "\n",
              "    .dataframe tbody tr th {\n",
              "        vertical-align: top;\n",
              "    }\n",
              "\n",
              "    .dataframe thead th {\n",
              "        text-align: right;\n",
              "    }\n",
              "</style>\n",
              "<table border=\"1\" class=\"dataframe\">\n",
              "  <thead>\n",
              "    <tr style=\"text-align: right;\">\n",
              "      <th></th>\n",
              "      <th>year</th>\n",
              "      <th>team_name</th>\n",
              "      <th>goals</th>\n",
              "    </tr>\n",
              "  </thead>\n",
              "  <tbody>\n",
              "    <tr>\n",
              "      <th>0</th>\n",
              "      <td>2014</td>\n",
              "      <td>Real Madrid</td>\n",
              "      <td>116</td>\n",
              "    </tr>\n",
              "    <tr>\n",
              "      <th>1</th>\n",
              "      <td>2016</td>\n",
              "      <td>Barcelona</td>\n",
              "      <td>114</td>\n",
              "    </tr>\n",
              "    <tr>\n",
              "      <th>2</th>\n",
              "      <td>2015</td>\n",
              "      <td>Barcelona</td>\n",
              "      <td>109</td>\n",
              "    </tr>\n",
              "    <tr>\n",
              "      <th>6</th>\n",
              "      <td>2018</td>\n",
              "      <td>Paris Saint Germain</td>\n",
              "      <td>103</td>\n",
              "    </tr>\n",
              "    <tr>\n",
              "      <th>8</th>\n",
              "      <td>2017</td>\n",
              "      <td>Manchester City</td>\n",
              "      <td>103</td>\n",
              "    </tr>\n",
              "    <tr>\n",
              "      <th>11</th>\n",
              "      <td>2019</td>\n",
              "      <td>Manchester City</td>\n",
              "      <td>100</td>\n",
              "    </tr>\n",
              "    <tr>\n",
              "      <th>492</th>\n",
              "      <td>2020</td>\n",
              "      <td>Bayern Munich</td>\n",
              "      <td>34</td>\n",
              "    </tr>\n",
              "  </tbody>\n",
              "</table>\n",
              "</div>\n",
              "      <button class=\"colab-df-convert\" onclick=\"convertToInteractive('df-bc4b5feb-28cb-480e-b1a8-3b05cb303cc0')\"\n",
              "              title=\"Convert this dataframe to an interactive table.\"\n",
              "              style=\"display:none;\">\n",
              "        \n",
              "  <svg xmlns=\"http://www.w3.org/2000/svg\" height=\"24px\"viewBox=\"0 0 24 24\"\n",
              "       width=\"24px\">\n",
              "    <path d=\"M0 0h24v24H0V0z\" fill=\"none\"/>\n",
              "    <path d=\"M18.56 5.44l.94 2.06.94-2.06 2.06-.94-2.06-.94-.94-2.06-.94 2.06-2.06.94zm-11 1L8.5 8.5l.94-2.06 2.06-.94-2.06-.94L8.5 2.5l-.94 2.06-2.06.94zm10 10l.94 2.06.94-2.06 2.06-.94-2.06-.94-.94-2.06-.94 2.06-2.06.94z\"/><path d=\"M17.41 7.96l-1.37-1.37c-.4-.4-.92-.59-1.43-.59-.52 0-1.04.2-1.43.59L10.3 9.45l-7.72 7.72c-.78.78-.78 2.05 0 2.83L4 21.41c.39.39.9.59 1.41.59.51 0 1.02-.2 1.41-.59l7.78-7.78 2.81-2.81c.8-.78.8-2.07 0-2.86zM5.41 20L4 18.59l7.72-7.72 1.47 1.35L5.41 20z\"/>\n",
              "  </svg>\n",
              "      </button>\n",
              "      \n",
              "  <style>\n",
              "    .colab-df-container {\n",
              "      display:flex;\n",
              "      flex-wrap:wrap;\n",
              "      gap: 12px;\n",
              "    }\n",
              "\n",
              "    .colab-df-convert {\n",
              "      background-color: #E8F0FE;\n",
              "      border: none;\n",
              "      border-radius: 50%;\n",
              "      cursor: pointer;\n",
              "      display: none;\n",
              "      fill: #1967D2;\n",
              "      height: 32px;\n",
              "      padding: 0 0 0 0;\n",
              "      width: 32px;\n",
              "    }\n",
              "\n",
              "    .colab-df-convert:hover {\n",
              "      background-color: #E2EBFA;\n",
              "      box-shadow: 0px 1px 2px rgba(60, 64, 67, 0.3), 0px 1px 3px 1px rgba(60, 64, 67, 0.15);\n",
              "      fill: #174EA6;\n",
              "    }\n",
              "\n",
              "    [theme=dark] .colab-df-convert {\n",
              "      background-color: #3B4455;\n",
              "      fill: #D2E3FC;\n",
              "    }\n",
              "\n",
              "    [theme=dark] .colab-df-convert:hover {\n",
              "      background-color: #434B5C;\n",
              "      box-shadow: 0px 1px 3px 1px rgba(0, 0, 0, 0.15);\n",
              "      filter: drop-shadow(0px 1px 2px rgba(0, 0, 0, 0.3));\n",
              "      fill: #FFFFFF;\n",
              "    }\n",
              "  </style>\n",
              "\n",
              "      <script>\n",
              "        const buttonEl =\n",
              "          document.querySelector('#df-bc4b5feb-28cb-480e-b1a8-3b05cb303cc0 button.colab-df-convert');\n",
              "        buttonEl.style.display =\n",
              "          google.colab.kernel.accessAllowed ? 'block' : 'none';\n",
              "\n",
              "        async function convertToInteractive(key) {\n",
              "          const element = document.querySelector('#df-bc4b5feb-28cb-480e-b1a8-3b05cb303cc0');\n",
              "          const dataTable =\n",
              "            await google.colab.kernel.invokeFunction('convertToInteractive',\n",
              "                                                     [key], {});\n",
              "          if (!dataTable) return;\n",
              "\n",
              "          const docLinkHtml = 'Like what you see? Visit the ' +\n",
              "            '<a target=\"_blank\" href=https://colab.research.google.com/notebooks/data_table.ipynb>data table notebook</a>'\n",
              "            + ' to learn more about interactive tables.';\n",
              "          element.innerHTML = '';\n",
              "          dataTable['output_type'] = 'display_data';\n",
              "          await google.colab.output.renderOutput(dataTable, element);\n",
              "          const docLink = document.createElement('div');\n",
              "          docLink.innerHTML = docLinkHtml;\n",
              "          element.appendChild(docLink);\n",
              "        }\n",
              "      </script>\n",
              "    </div>\n",
              "  </div>\n",
              "  "
            ]
          },
          "metadata": {},
          "execution_count": 29
        }
      ],
      "execution_count": 29
    },
    {
      "cell_type": "markdown",
      "source": [
        "# Regalos 🎁"
      ],
      "metadata": {
        "tags": [],
        "cell_id": "8a5140e44d4b4ce5bda2c5c58acafa40",
        "deepnote_app_coordinates": {
          "h": 5,
          "w": 12,
          "x": 0,
          "y": 252
        },
        "deepnote_cell_type": "markdown",
        "id": "kzIQqOc4zp2K"
      }
    },
    {
      "cell_type": "markdown",
      "source": [
        "Estos regalos son muy especiales porque no solo te ayudarán ahora, sino que te abrirán un nuevo camino que podrás usar el resto de tu vida.\n",
        "\n",
        "Primero, como no podía faltar, el cheat sheet de todos los comandos de Pandas:\n",
        "- [Cheat Sheet de Pandas](https://pandas.pydata.org/Pandas_Cheat_Sheet.pdf)\n",
        "\n",
        "Y ahora, te abriré la puerta al mundo de los datasets. Te dejaré algunos lugares donde podrás conseguir datasets de todo lo que te puedas imaginar para que apliques todos tus conocimientos y los añadas a tu [propio portafolio](https://platzi.com/blog/deepnote).\n",
        "- [Kaggle](https://www.kaggle.com/datasets): este es un sitio especial para data scientists que tiene MUCHOS datasets y competiciones para que apliques tus conocimientos.\n",
        "- [Awesome Public Datasets](https://github.com/awesomedata/awesome-public-datasets): es un repositorio de GitHub que compiló un montón datasets públicos y los ordernó por categorías. Podrías usarlos como base para tus futuros proyectos de portafolio.\n",
        "- [Datsets Seearch](https://datasetsearch.research.google.com/): Google tiene su propio buscador de datasets, prueba encontrar lo que necesitas aquí."
      ],
      "metadata": {
        "tags": [],
        "cell_id": "228bfa31707143189d86392df32b4f50",
        "deepnote_app_coordinates": {
          "h": 5,
          "w": 12,
          "x": 0,
          "y": 258
        },
        "deepnote_cell_type": "markdown",
        "id": "6Gn9NP8Jzp2K"
      }
    },
    {
      "cell_type": "markdown",
      "source": [
        "¡Has aprendido un montón, me llenas de orgullo! 💪\n",
        "\n",
        "Me encantaría leer tus respuestas y comentarios en el [blog](https://platzi.com/blog/pandas) 💚"
      ],
      "metadata": {
        "tags": [],
        "cell_id": "4baaaeecd6d9437f9ddef8a3b752aed7",
        "deepnote_app_coordinates": {
          "h": 5,
          "w": 12,
          "x": 0,
          "y": 264
        },
        "deepnote_cell_type": "markdown",
        "id": "dn1_ycwEzp2K"
      }
    },
    {
      "cell_type": "markdown",
      "source": [
        "<a style='text-decoration:none;line-height:16px;display:flex;color:#5B5B62;padding:10px;justify-content:end;' href='https://deepnote.com?utm_source=created-in-deepnote-cell&projectId=d21a300b-571d-4704-b81e-a7ba553b185a' target=\"_blank\">\n",
        "<img alt='Created in deepnote.com' style='display:inline;max-height:16px;margin:0px;margin-right:7.5px;' src='data:image/svg+xml;base64,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' > </img>\n",
        "Created in <span style='font-weight:600;margin-left:4px;'>Deepnote</span></a>"
      ],
      "metadata": {
        "tags": [],
        "created_in_deepnote_cell": true,
        "deepnote_cell_type": "markdown",
        "id": "0nDa-GAHzp2K"
      }
    }
  ],
  "nbformat": 4,
  "nbformat_minor": 0,
  "metadata": {
    "deepnote": {
      "is_reactive": false
    },
    "orig_nbformat": 2,
    "deepnote_app_layout": "article",
    "deepnote_notebook_id": "d03d4f8fd51044debe510477ce2a5fdd",
    "deepnote_execution_queue": [],
    "colab": {
      "provenance": [],
      "include_colab_link": true
    },
    "language_info": {
      "name": "python"
    },
    "kernelspec": {
      "name": "python3",
      "display_name": "Python 3"
    },
    "gpuClass": "standard"
  }
}