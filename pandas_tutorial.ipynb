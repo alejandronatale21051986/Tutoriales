{
  "cells": [
    {
      "cell_type": "markdown",
      "metadata": {
        "id": "view-in-github",
        "colab_type": "text"
      },
      "source": [
        "<a href=\"https://colab.research.google.com/github/alejandronatale21051986/Tutoriales/blob/main/pandas_tutorial.ipynb\" target=\"_parent\"><img src=\"https://colab.research.google.com/assets/colab-badge.svg\" alt=\"Open In Colab\"/></a>"
      ]
    },
    {
      "cell_type": "markdown",
      "source": [
        "# Tutorial de Pandas en Español\n",
        "\n",
        "Este tutorial va de la mano con un blog que publiqué en Platzi: [Tutorial de Pandas](https://platzi.com/blog/pandas)\n",
        "\n",
        "[<img src=\"/work/images/pandas-logo.png\" width=\"350\" />](https://pandas.pydata.org/)\n",
        "\n",
        "Se lo importa con la siguiente convención:"
      ],
      "metadata": {
        "tags": [],
        "cell_id": "6d7eb95d7c834ecdbf2ca51a01b4dc2b",
        "deepnote_app_coordinates": {
          "h": 5,
          "w": 12,
          "x": 0,
          "y": null
        },
        "deepnote_cell_type": "markdown",
        "id": "2BPtwZ_wFzGG"
      }
    },
    {
      "cell_type": "code",
      "source": [
        "import pandas as pd"
      ],
      "metadata": {
        "tags": [],
        "cell_id": "09db294c754841afb045dc1c93309dc4",
        "source_hash": "9b82ee11",
        "execution_start": 1645375717926,
        "execution_millis": 8,
        "deepnote_app_coordinates": {
          "h": 5,
          "w": 12,
          "x": 0,
          "y": 6
        },
        "deepnote_to_be_reexecuted": false,
        "deepnote_cell_type": "code",
        "id": "5JeLxY87FzGJ"
      },
      "outputs": [],
      "execution_count": 1
    },
    {
      "cell_type": "markdown",
      "source": [
        "## DataFrame\n",
        "\n",
        "### Crear un DataFrame con Python"
      ],
      "metadata": {
        "tags": [],
        "cell_id": "c71e09001e4f400db0cab705aff71952",
        "deepnote_app_coordinates": {
          "h": 5,
          "w": 12,
          "x": 0,
          "y": 12
        },
        "deepnote_cell_type": "markdown",
        "id": "90BplRkpFzGK"
      }
    },
    {
      "cell_type": "markdown",
      "source": [
        "#### 1) Diccionario de listas (columna por columna)"
      ],
      "metadata": {
        "tags": [],
        "cell_id": "e9f8cc3a9092417bbad5e495f1d86fe5",
        "deepnote_app_coordinates": {
          "h": 5,
          "w": 12,
          "x": 0,
          "y": 18
        },
        "deepnote_cell_type": "markdown",
        "id": "thJzQVPgFzGK"
      }
    },
    {
      "cell_type": "code",
      "source": [
        "football_dict = {\n",
        "    \"player\": [\"Lionel Messi\", \"Cristiano Ronaldo\"],\n",
        "    \"year\": [2016, 2016],\n",
        "    \"goals\": [37, 25],\n",
        "}\n",
        "football_stats = pd.DataFrame(football_dict)\n",
        "print(football_stats)"
      ],
      "metadata": {
        "tags": [],
        "cell_id": "c9383cd1d08a4d5291587b1d5883fb63",
        "source_hash": "f7383565",
        "execution_start": 1645375717992,
        "execution_millis": 46,
        "deepnote_app_coordinates": {
          "h": 5,
          "w": 12,
          "x": 0,
          "y": 24
        },
        "deepnote_to_be_reexecuted": false,
        "deepnote_cell_type": "code",
        "colab": {
          "base_uri": "https://localhost:8080/"
        },
        "id": "F0-hxxGHFzGL",
        "outputId": "e79f83ba-3c19-4286-bb37-bd59c8ce7792"
      },
      "outputs": [
        {
          "output_type": "stream",
          "name": "stdout",
          "text": [
            "              player  year  goals\n",
            "0       Lionel Messi  2016     37\n",
            "1  Cristiano Ronaldo  2016     25\n"
          ]
        }
      ],
      "execution_count": 2
    },
    {
      "cell_type": "markdown",
      "source": [
        "#### 2) Lista de diccionarios (fila por fila)"
      ],
      "metadata": {
        "tags": [],
        "cell_id": "0aa2be3e9167408d97de28f9946b912b",
        "deepnote_app_coordinates": {
          "h": 5,
          "w": 12,
          "x": 0,
          "y": 30
        },
        "deepnote_cell_type": "markdown",
        "id": "zMaRazhsFzGL"
      }
    },
    {
      "cell_type": "code",
      "source": [
        "football_list = [\n",
        "    {\"player\": \"Lionel Messi\", \"year\": 2016, \"goals\": 37},\n",
        "    {\"player\": \"Cristiano Ronaldo\", \"year\": 2016, \"goals\": 25},\n",
        "]\n",
        "football_stats = pd.DataFrame(football_list)\n",
        "print(football_stats)"
      ],
      "metadata": {
        "tags": [],
        "cell_id": "1a09cc05d2be4630a1f856ab6eecfe11",
        "source_hash": "4bd5f41c",
        "execution_start": 1645375718037,
        "execution_millis": 0,
        "deepnote_app_coordinates": {
          "h": 5,
          "w": 12,
          "x": 0,
          "y": 36
        },
        "deepnote_to_be_reexecuted": false,
        "deepnote_cell_type": "code",
        "colab": {
          "base_uri": "https://localhost:8080/"
        },
        "id": "ytJhNVXMFzGM",
        "outputId": "3fb6ad8c-0923-4f7d-fbce-87626680410c"
      },
      "outputs": [
        {
          "output_type": "stream",
          "name": "stdout",
          "text": [
            "              player  year  goals\n",
            "0       Lionel Messi  2016     37\n",
            "1  Cristiano Ronaldo  2016     25\n"
          ]
        }
      ],
      "execution_count": 3
    },
    {
      "cell_type": "markdown",
      "source": [
        "## Importar datos\n",
        "\n",
        "### Base de datos\n",
        "\n",
        "Usaremos una base de datos de las 5 ligas top de Europa entre los años 2014 y 2020.\n",
        "> Fuente: [Kaggle](https://www.kaggle.com/shushrutsharma/top-5-football-leagues?select=Fullmetadata.csv)\n",
        "\n",
        "### Importar csv\n",
        "\n",
        "`pd.read_csv('path/file.csv')`"
      ],
      "metadata": {
        "tags": [],
        "cell_id": "67da7d80699145b6b05f074f23bec78d",
        "deepnote_app_coordinates": {
          "h": 5,
          "w": 12,
          "x": 0,
          "y": 42
        },
        "deepnote_cell_type": "markdown",
        "id": "vlJEIo-oFzGM"
      }
    },
    {
      "cell_type": "code",
      "source": [
        "df = pd.read_csv('/work/datasets/football_mini_stats.csv')\n",
        "print(df)"
      ],
      "metadata": {
        "tags": [],
        "cell_id": "fcf98c42d9d34e2f81b9b2e103a5d1b6",
        "source_hash": "e0c0ea6c",
        "execution_start": 1645375718081,
        "execution_millis": 2,
        "deepnote_app_coordinates": {
          "h": 5,
          "w": 12,
          "x": 0,
          "y": 48
        },
        "deepnote_to_be_reexecuted": false,
        "deepnote_cell_type": "code",
        "colab": {
          "base_uri": "https://localhost:8080/",
          "height": 347
        },
        "id": "vORYNe4vFzGM",
        "outputId": "b121c61f-637b-48f6-9635-9b39533cc8f6"
      },
      "outputs": [
        {
          "output_type": "error",
          "ename": "FileNotFoundError",
          "evalue": "ignored",
          "traceback": [
            "\u001b[0;31m---------------------------------------------------------------------------\u001b[0m",
            "\u001b[0;31mFileNotFoundError\u001b[0m                         Traceback (most recent call last)",
            "\u001b[0;32m<ipython-input-4-ad499aacb9ca>\u001b[0m in \u001b[0;36m<module>\u001b[0;34m\u001b[0m\n\u001b[0;32m----> 1\u001b[0;31m \u001b[0mdf\u001b[0m \u001b[0;34m=\u001b[0m \u001b[0mpd\u001b[0m\u001b[0;34m.\u001b[0m\u001b[0mread_csv\u001b[0m\u001b[0;34m(\u001b[0m\u001b[0;34m'/work/datasets/football_mini_stats.csv'\u001b[0m\u001b[0;34m)\u001b[0m\u001b[0;34m\u001b[0m\u001b[0;34m\u001b[0m\u001b[0m\n\u001b[0m\u001b[1;32m      2\u001b[0m \u001b[0mprint\u001b[0m\u001b[0;34m(\u001b[0m\u001b[0mdf\u001b[0m\u001b[0;34m)\u001b[0m\u001b[0;34m\u001b[0m\u001b[0;34m\u001b[0m\u001b[0m\n",
            "\u001b[0;32m/usr/local/lib/python3.8/dist-packages/pandas/util/_decorators.py\u001b[0m in \u001b[0;36mwrapper\u001b[0;34m(*args, **kwargs)\u001b[0m\n\u001b[1;32m    309\u001b[0m                     \u001b[0mstacklevel\u001b[0m\u001b[0;34m=\u001b[0m\u001b[0mstacklevel\u001b[0m\u001b[0;34m,\u001b[0m\u001b[0;34m\u001b[0m\u001b[0;34m\u001b[0m\u001b[0m\n\u001b[1;32m    310\u001b[0m                 )\n\u001b[0;32m--> 311\u001b[0;31m             \u001b[0;32mreturn\u001b[0m \u001b[0mfunc\u001b[0m\u001b[0;34m(\u001b[0m\u001b[0;34m*\u001b[0m\u001b[0margs\u001b[0m\u001b[0;34m,\u001b[0m \u001b[0;34m**\u001b[0m\u001b[0mkwargs\u001b[0m\u001b[0;34m)\u001b[0m\u001b[0;34m\u001b[0m\u001b[0;34m\u001b[0m\u001b[0m\n\u001b[0m\u001b[1;32m    312\u001b[0m \u001b[0;34m\u001b[0m\u001b[0m\n\u001b[1;32m    313\u001b[0m         \u001b[0;32mreturn\u001b[0m \u001b[0mwrapper\u001b[0m\u001b[0;34m\u001b[0m\u001b[0;34m\u001b[0m\u001b[0m\n",
            "\u001b[0;32m/usr/local/lib/python3.8/dist-packages/pandas/io/parsers/readers.py\u001b[0m in \u001b[0;36mread_csv\u001b[0;34m(filepath_or_buffer, sep, delimiter, header, names, index_col, usecols, squeeze, prefix, mangle_dupe_cols, dtype, engine, converters, true_values, false_values, skipinitialspace, skiprows, skipfooter, nrows, na_values, keep_default_na, na_filter, verbose, skip_blank_lines, parse_dates, infer_datetime_format, keep_date_col, date_parser, dayfirst, cache_dates, iterator, chunksize, compression, thousands, decimal, lineterminator, quotechar, quoting, doublequote, escapechar, comment, encoding, encoding_errors, dialect, error_bad_lines, warn_bad_lines, on_bad_lines, delim_whitespace, low_memory, memory_map, float_precision, storage_options)\u001b[0m\n\u001b[1;32m    584\u001b[0m     \u001b[0mkwds\u001b[0m\u001b[0;34m.\u001b[0m\u001b[0mupdate\u001b[0m\u001b[0;34m(\u001b[0m\u001b[0mkwds_defaults\u001b[0m\u001b[0;34m)\u001b[0m\u001b[0;34m\u001b[0m\u001b[0;34m\u001b[0m\u001b[0m\n\u001b[1;32m    585\u001b[0m \u001b[0;34m\u001b[0m\u001b[0m\n\u001b[0;32m--> 586\u001b[0;31m     \u001b[0;32mreturn\u001b[0m \u001b[0m_read\u001b[0m\u001b[0;34m(\u001b[0m\u001b[0mfilepath_or_buffer\u001b[0m\u001b[0;34m,\u001b[0m \u001b[0mkwds\u001b[0m\u001b[0;34m)\u001b[0m\u001b[0;34m\u001b[0m\u001b[0;34m\u001b[0m\u001b[0m\n\u001b[0m\u001b[1;32m    587\u001b[0m \u001b[0;34m\u001b[0m\u001b[0m\n\u001b[1;32m    588\u001b[0m \u001b[0;34m\u001b[0m\u001b[0m\n",
            "\u001b[0;32m/usr/local/lib/python3.8/dist-packages/pandas/io/parsers/readers.py\u001b[0m in \u001b[0;36m_read\u001b[0;34m(filepath_or_buffer, kwds)\u001b[0m\n\u001b[1;32m    480\u001b[0m \u001b[0;34m\u001b[0m\u001b[0m\n\u001b[1;32m    481\u001b[0m     \u001b[0;31m# Create the parser.\u001b[0m\u001b[0;34m\u001b[0m\u001b[0;34m\u001b[0m\u001b[0;34m\u001b[0m\u001b[0m\n\u001b[0;32m--> 482\u001b[0;31m     \u001b[0mparser\u001b[0m \u001b[0;34m=\u001b[0m \u001b[0mTextFileReader\u001b[0m\u001b[0;34m(\u001b[0m\u001b[0mfilepath_or_buffer\u001b[0m\u001b[0;34m,\u001b[0m \u001b[0;34m**\u001b[0m\u001b[0mkwds\u001b[0m\u001b[0;34m)\u001b[0m\u001b[0;34m\u001b[0m\u001b[0;34m\u001b[0m\u001b[0m\n\u001b[0m\u001b[1;32m    483\u001b[0m \u001b[0;34m\u001b[0m\u001b[0m\n\u001b[1;32m    484\u001b[0m     \u001b[0;32mif\u001b[0m \u001b[0mchunksize\u001b[0m \u001b[0;32mor\u001b[0m \u001b[0miterator\u001b[0m\u001b[0;34m:\u001b[0m\u001b[0;34m\u001b[0m\u001b[0;34m\u001b[0m\u001b[0m\n",
            "\u001b[0;32m/usr/local/lib/python3.8/dist-packages/pandas/io/parsers/readers.py\u001b[0m in \u001b[0;36m__init__\u001b[0;34m(self, f, engine, **kwds)\u001b[0m\n\u001b[1;32m    809\u001b[0m             \u001b[0mself\u001b[0m\u001b[0;34m.\u001b[0m\u001b[0moptions\u001b[0m\u001b[0;34m[\u001b[0m\u001b[0;34m\"has_index_names\"\u001b[0m\u001b[0;34m]\u001b[0m \u001b[0;34m=\u001b[0m \u001b[0mkwds\u001b[0m\u001b[0;34m[\u001b[0m\u001b[0;34m\"has_index_names\"\u001b[0m\u001b[0;34m]\u001b[0m\u001b[0;34m\u001b[0m\u001b[0;34m\u001b[0m\u001b[0m\n\u001b[1;32m    810\u001b[0m \u001b[0;34m\u001b[0m\u001b[0m\n\u001b[0;32m--> 811\u001b[0;31m         \u001b[0mself\u001b[0m\u001b[0;34m.\u001b[0m\u001b[0m_engine\u001b[0m \u001b[0;34m=\u001b[0m \u001b[0mself\u001b[0m\u001b[0;34m.\u001b[0m\u001b[0m_make_engine\u001b[0m\u001b[0;34m(\u001b[0m\u001b[0mself\u001b[0m\u001b[0;34m.\u001b[0m\u001b[0mengine\u001b[0m\u001b[0;34m)\u001b[0m\u001b[0;34m\u001b[0m\u001b[0;34m\u001b[0m\u001b[0m\n\u001b[0m\u001b[1;32m    812\u001b[0m \u001b[0;34m\u001b[0m\u001b[0m\n\u001b[1;32m    813\u001b[0m     \u001b[0;32mdef\u001b[0m \u001b[0mclose\u001b[0m\u001b[0;34m(\u001b[0m\u001b[0mself\u001b[0m\u001b[0;34m)\u001b[0m\u001b[0;34m:\u001b[0m\u001b[0;34m\u001b[0m\u001b[0;34m\u001b[0m\u001b[0m\n",
            "\u001b[0;32m/usr/local/lib/python3.8/dist-packages/pandas/io/parsers/readers.py\u001b[0m in \u001b[0;36m_make_engine\u001b[0;34m(self, engine)\u001b[0m\n\u001b[1;32m   1038\u001b[0m             )\n\u001b[1;32m   1039\u001b[0m         \u001b[0;31m# error: Too many arguments for \"ParserBase\"\u001b[0m\u001b[0;34m\u001b[0m\u001b[0;34m\u001b[0m\u001b[0;34m\u001b[0m\u001b[0m\n\u001b[0;32m-> 1040\u001b[0;31m         \u001b[0;32mreturn\u001b[0m \u001b[0mmapping\u001b[0m\u001b[0;34m[\u001b[0m\u001b[0mengine\u001b[0m\u001b[0;34m]\u001b[0m\u001b[0;34m(\u001b[0m\u001b[0mself\u001b[0m\u001b[0;34m.\u001b[0m\u001b[0mf\u001b[0m\u001b[0;34m,\u001b[0m \u001b[0;34m**\u001b[0m\u001b[0mself\u001b[0m\u001b[0;34m.\u001b[0m\u001b[0moptions\u001b[0m\u001b[0;34m)\u001b[0m  \u001b[0;31m# type: ignore[call-arg]\u001b[0m\u001b[0;34m\u001b[0m\u001b[0;34m\u001b[0m\u001b[0m\n\u001b[0m\u001b[1;32m   1041\u001b[0m \u001b[0;34m\u001b[0m\u001b[0m\n\u001b[1;32m   1042\u001b[0m     \u001b[0;32mdef\u001b[0m \u001b[0m_failover_to_python\u001b[0m\u001b[0;34m(\u001b[0m\u001b[0mself\u001b[0m\u001b[0;34m)\u001b[0m\u001b[0;34m:\u001b[0m\u001b[0;34m\u001b[0m\u001b[0;34m\u001b[0m\u001b[0m\n",
            "\u001b[0;32m/usr/local/lib/python3.8/dist-packages/pandas/io/parsers/c_parser_wrapper.py\u001b[0m in \u001b[0;36m__init__\u001b[0;34m(self, src, **kwds)\u001b[0m\n\u001b[1;32m     49\u001b[0m \u001b[0;34m\u001b[0m\u001b[0m\n\u001b[1;32m     50\u001b[0m         \u001b[0;31m# open handles\u001b[0m\u001b[0;34m\u001b[0m\u001b[0;34m\u001b[0m\u001b[0;34m\u001b[0m\u001b[0m\n\u001b[0;32m---> 51\u001b[0;31m         \u001b[0mself\u001b[0m\u001b[0;34m.\u001b[0m\u001b[0m_open_handles\u001b[0m\u001b[0;34m(\u001b[0m\u001b[0msrc\u001b[0m\u001b[0;34m,\u001b[0m \u001b[0mkwds\u001b[0m\u001b[0;34m)\u001b[0m\u001b[0;34m\u001b[0m\u001b[0;34m\u001b[0m\u001b[0m\n\u001b[0m\u001b[1;32m     52\u001b[0m         \u001b[0;32massert\u001b[0m \u001b[0mself\u001b[0m\u001b[0;34m.\u001b[0m\u001b[0mhandles\u001b[0m \u001b[0;32mis\u001b[0m \u001b[0;32mnot\u001b[0m \u001b[0;32mNone\u001b[0m\u001b[0;34m\u001b[0m\u001b[0;34m\u001b[0m\u001b[0m\n\u001b[1;32m     53\u001b[0m \u001b[0;34m\u001b[0m\u001b[0m\n",
            "\u001b[0;32m/usr/local/lib/python3.8/dist-packages/pandas/io/parsers/base_parser.py\u001b[0m in \u001b[0;36m_open_handles\u001b[0;34m(self, src, kwds)\u001b[0m\n\u001b[1;32m    220\u001b[0m         \u001b[0mLet\u001b[0m \u001b[0mthe\u001b[0m \u001b[0mreaders\u001b[0m \u001b[0mopen\u001b[0m \u001b[0mIOHandles\u001b[0m \u001b[0mafter\u001b[0m \u001b[0mthey\u001b[0m \u001b[0mare\u001b[0m \u001b[0mdone\u001b[0m \u001b[0;32mwith\u001b[0m \u001b[0mtheir\u001b[0m \u001b[0mpotential\u001b[0m \u001b[0mraises\u001b[0m\u001b[0;34m.\u001b[0m\u001b[0;34m\u001b[0m\u001b[0;34m\u001b[0m\u001b[0m\n\u001b[1;32m    221\u001b[0m         \"\"\"\n\u001b[0;32m--> 222\u001b[0;31m         self.handles = get_handle(\n\u001b[0m\u001b[1;32m    223\u001b[0m             \u001b[0msrc\u001b[0m\u001b[0;34m,\u001b[0m\u001b[0;34m\u001b[0m\u001b[0;34m\u001b[0m\u001b[0m\n\u001b[1;32m    224\u001b[0m             \u001b[0;34m\"r\"\u001b[0m\u001b[0;34m,\u001b[0m\u001b[0;34m\u001b[0m\u001b[0;34m\u001b[0m\u001b[0m\n",
            "\u001b[0;32m/usr/local/lib/python3.8/dist-packages/pandas/io/common.py\u001b[0m in \u001b[0;36mget_handle\u001b[0;34m(path_or_buf, mode, encoding, compression, memory_map, is_text, errors, storage_options)\u001b[0m\n\u001b[1;32m    700\u001b[0m         \u001b[0;32mif\u001b[0m \u001b[0mioargs\u001b[0m\u001b[0;34m.\u001b[0m\u001b[0mencoding\u001b[0m \u001b[0;32mand\u001b[0m \u001b[0;34m\"b\"\u001b[0m \u001b[0;32mnot\u001b[0m \u001b[0;32min\u001b[0m \u001b[0mioargs\u001b[0m\u001b[0;34m.\u001b[0m\u001b[0mmode\u001b[0m\u001b[0;34m:\u001b[0m\u001b[0;34m\u001b[0m\u001b[0;34m\u001b[0m\u001b[0m\n\u001b[1;32m    701\u001b[0m             \u001b[0;31m# Encoding\u001b[0m\u001b[0;34m\u001b[0m\u001b[0;34m\u001b[0m\u001b[0;34m\u001b[0m\u001b[0m\n\u001b[0;32m--> 702\u001b[0;31m             handle = open(\n\u001b[0m\u001b[1;32m    703\u001b[0m                 \u001b[0mhandle\u001b[0m\u001b[0;34m,\u001b[0m\u001b[0;34m\u001b[0m\u001b[0;34m\u001b[0m\u001b[0m\n\u001b[1;32m    704\u001b[0m                 \u001b[0mioargs\u001b[0m\u001b[0;34m.\u001b[0m\u001b[0mmode\u001b[0m\u001b[0;34m,\u001b[0m\u001b[0;34m\u001b[0m\u001b[0;34m\u001b[0m\u001b[0m\n",
            "\u001b[0;31mFileNotFoundError\u001b[0m: [Errno 2] No such file or directory: '/work/datasets/football_mini_stats.csv'"
          ]
        }
      ],
      "execution_count": 4
    },
    {
      "cell_type": "markdown",
      "source": [
        "Importar con una columna como índice"
      ],
      "metadata": {
        "tags": [],
        "cell_id": "d24dac6f1fda494ca22a5d5af23dd28a",
        "deepnote_app_coordinates": {
          "h": 5,
          "w": 12,
          "x": 0,
          "y": 270
        },
        "deepnote_cell_type": "markdown",
        "id": "aNO9InaBFzGN"
      }
    },
    {
      "cell_type": "code",
      "source": [
        "df = pd.read_csv('/work/datasets/football_mini_stats.csv', index_col='player')\n",
        "print(df)"
      ],
      "metadata": {
        "tags": [],
        "cell_id": "1b63b2d0fe424758966863d93888111d",
        "allow_embed": false,
        "source_hash": "e83f94b0",
        "execution_start": 1645375718090,
        "execution_millis": 12,
        "deepnote_app_coordinates": {
          "h": 5,
          "w": 12,
          "x": 0,
          "y": 54
        },
        "deepnote_to_be_reexecuted": false,
        "deepnote_cell_type": "code",
        "id": "g16UThMuFzGN"
      },
      "outputs": [],
      "execution_count": null
    },
    {
      "cell_type": "code",
      "source": [
        "df = pd.read_csv('/work/datasets/football_stats.csv', index_col='player_id')\n",
        "df"
      ],
      "metadata": {
        "tags": [],
        "cell_id": "1bc8ab513ada43d4b6b0f884aa4ff5fc",
        "source_hash": "338fbfcc",
        "execution_start": 1645375718160,
        "execution_millis": 189,
        "deepnote_app_coordinates": {
          "h": 5,
          "w": 12,
          "x": 0,
          "y": 60
        },
        "deepnote_to_be_reexecuted": false,
        "deepnote_cell_type": "code",
        "id": "UCU3ejRvFzGN"
      },
      "outputs": [],
      "execution_count": null
    },
    {
      "cell_type": "markdown",
      "source": [
        "## Inspeccionar un DataFrame\n",
        "\n",
        "- `df.head()` → retorna las 5 primeras filas. También le puedes pasar un entero como parámetro y te devolverá esa cantidad de primeras filas.\n",
        "- `df.tail()` → retorna las últimas 5 filas del dataset.\n",
        "- `df.sample()` → es parecido a los 2 anteriores, pero este tomará muestras al azar del DataFrame.\n",
        "- `df.shape` → retorna las filas y columnas que tiene el DataFrame.\n",
        "- `df.size` → multiplica las filas y columnas y te da el total de datos del DataFrame.\n",
        "- `df.info()` → este es genial, te da la cuenta de valores no nulos, el tipo de dato de cada columna (recuerda que solo puede haber un único tipo de dato por columna) y el uso de memoria. Cuando estés procesando los datos, será un gran aliado.\n",
        "- `df.describe()` → te ayudará mucho con las primeras impresiones de los datos. Calcula algunas estadísticas descriptivas para cada columna."
      ],
      "metadata": {
        "tags": [],
        "cell_id": "907843c908a34dfda66ec593a69b476a",
        "deepnote_app_coordinates": {
          "h": 5,
          "w": 12,
          "x": 0,
          "y": 66
        },
        "deepnote_cell_type": "markdown",
        "id": "OtMW1nH_FzGO"
      }
    },
    {
      "cell_type": "code",
      "source": [
        "print(df.sample(3))"
      ],
      "metadata": {
        "tags": [],
        "cell_id": "85d3c2161b2f459fac6096eb49c904e2",
        "source_hash": "42137c8e",
        "execution_start": 1645375718365,
        "execution_millis": 11,
        "deepnote_app_coordinates": {
          "h": 5,
          "w": 12,
          "x": 0,
          "y": 72
        },
        "deepnote_to_be_reexecuted": false,
        "deepnote_cell_type": "code",
        "id": "ucLA1hJEFzGO"
      },
      "outputs": [],
      "execution_count": null
    },
    {
      "cell_type": "code",
      "source": [
        "print(df.shape)"
      ],
      "metadata": {
        "tags": [],
        "cell_id": "6759f814ada34b6da7a78494f73cef22",
        "source_hash": "35809e90",
        "execution_start": 1645375718385,
        "execution_millis": 7,
        "deepnote_app_coordinates": {
          "h": 5,
          "w": 12,
          "x": 0,
          "y": 78
        },
        "deepnote_to_be_reexecuted": false,
        "deepnote_cell_type": "code",
        "id": "FC7Or8VkFzGO"
      },
      "outputs": [],
      "execution_count": null
    },
    {
      "cell_type": "code",
      "source": [
        "print(df.size)"
      ],
      "metadata": {
        "tags": [],
        "cell_id": "03ed3fc2867c4be6b15ee0f41b65d3a0",
        "source_hash": "7ad480d5",
        "execution_start": 1645375718440,
        "execution_millis": 1,
        "deepnote_app_coordinates": {
          "h": 5,
          "w": 12,
          "x": 0,
          "y": 84
        },
        "deepnote_to_be_reexecuted": false,
        "deepnote_cell_type": "code",
        "id": "yQ4muGN9FzGP"
      },
      "outputs": [],
      "execution_count": null
    },
    {
      "cell_type": "code",
      "source": [
        "print(df.info())"
      ],
      "metadata": {
        "tags": [],
        "cell_id": "56fd11b5a0c942a6907542172f466f94",
        "source_hash": "8b651934",
        "execution_start": 1645375718441,
        "execution_millis": 70,
        "deepnote_app_coordinates": {
          "h": 5,
          "w": 12,
          "x": 0,
          "y": 90
        },
        "deepnote_to_be_reexecuted": false,
        "deepnote_cell_type": "code",
        "id": "9fYP4uZ4FzGP"
      },
      "outputs": [],
      "execution_count": null
    },
    {
      "cell_type": "code",
      "source": [
        "df.describe()"
      ],
      "metadata": {
        "tags": [],
        "cell_id": "7dcbf04454bc4b1f91d0761c3d86638b",
        "source_hash": "f88152d9",
        "execution_start": 1645375718506,
        "execution_millis": 68,
        "deepnote_app_coordinates": {
          "h": 5,
          "w": 12,
          "x": 0,
          "y": 96
        },
        "deepnote_to_be_reexecuted": false,
        "deepnote_cell_type": "code",
        "id": "7xXES8sJFzGP"
      },
      "outputs": [],
      "execution_count": null
    },
    {
      "cell_type": "markdown",
      "source": [
        "## Ordenar los datos"
      ],
      "metadata": {
        "tags": [],
        "cell_id": "62dce08bee51436293c4ddd3a9319f33",
        "deepnote_app_coordinates": {
          "h": 5,
          "w": 12,
          "x": 0,
          "y": 102
        },
        "deepnote_cell_type": "markdown",
        "id": "57qsVgakFzGP"
      }
    },
    {
      "cell_type": "code",
      "source": [
        "df.sort_values('player_name', ascending=False)"
      ],
      "metadata": {
        "tags": [],
        "cell_id": "5e0fe537820c4bd9baf9a66920ce567e",
        "source_hash": "f08e4a05",
        "execution_start": 1645375718620,
        "execution_millis": 170,
        "deepnote_app_coordinates": {
          "h": 5,
          "w": 12,
          "x": 0,
          "y": 108
        },
        "deepnote_to_be_reexecuted": false,
        "deepnote_cell_type": "code",
        "id": "FpydsW7MFzGP"
      },
      "outputs": [],
      "execution_count": null
    },
    {
      "cell_type": "code",
      "source": [
        "print(df.sort_values(['team_name', 'goals'], ascending=[True, False]).head(3))"
      ],
      "metadata": {
        "tags": [],
        "cell_id": "922b4bd8ea31488791998c6060eddbfe",
        "source_hash": "1d75dd26",
        "execution_start": 1645375718794,
        "execution_millis": 38,
        "deepnote_app_coordinates": {
          "h": 5,
          "w": 12,
          "x": 0,
          "y": 114
        },
        "deepnote_to_be_reexecuted": false,
        "deepnote_cell_type": "code",
        "id": "WnbjfvFTFzGP"
      },
      "outputs": [],
      "execution_count": null
    },
    {
      "cell_type": "markdown",
      "source": [
        "## Subconjuntos y filtros de datos"
      ],
      "metadata": {
        "tags": [],
        "cell_id": "5659facc5a23459a8c84d20c1ba8a744",
        "deepnote_app_coordinates": {
          "h": 5,
          "w": 12,
          "x": 0,
          "y": 120
        },
        "deepnote_cell_type": "markdown",
        "id": "HVuXAuZYFzGQ"
      }
    },
    {
      "cell_type": "markdown",
      "source": [
        "### Subsetting columns"
      ],
      "metadata": {
        "tags": [],
        "cell_id": "425c30b727af446497deb77d50ca6fc0",
        "deepnote_app_coordinates": {
          "h": 5,
          "w": 12,
          "x": 0,
          "y": 126
        },
        "deepnote_cell_type": "markdown",
        "id": "KMyywipzFzGQ"
      }
    },
    {
      "cell_type": "code",
      "source": [
        "df['team_name'].unique()"
      ],
      "metadata": {
        "tags": [],
        "cell_id": "2a54e205b60d47f0a8a829f873db3cb6",
        "source_hash": "3205009b",
        "execution_start": 1645375718840,
        "execution_millis": 5,
        "deepnote_output_heights": [
          611
        ],
        "deepnote_app_coordinates": {
          "h": 5,
          "w": 12,
          "x": 0,
          "y": 132
        },
        "deepnote_to_be_reexecuted": false,
        "deepnote_cell_type": "code",
        "id": "IfeujgHQFzGQ"
      },
      "outputs": [],
      "execution_count": null
    },
    {
      "cell_type": "markdown",
      "source": [
        "### Filtrar filas"
      ],
      "metadata": {
        "tags": [],
        "cell_id": "7eeb0783e8aa4085b1309845f3d176cf",
        "deepnote_app_coordinates": {
          "h": 5,
          "w": 12,
          "x": 0,
          "y": 138
        },
        "deepnote_cell_type": "markdown",
        "id": "bpFAX4zQFzGQ"
      }
    },
    {
      "cell_type": "code",
      "source": [
        "df[df.player_name=='Aaron Connolly']"
      ],
      "metadata": {
        "tags": [],
        "cell_id": "8b29bc900e1b4134aeb5b6549806c904",
        "source_hash": "1c5a0e1b",
        "execution_start": 1645375718896,
        "execution_millis": 51,
        "deepnote_app_coordinates": {
          "h": 5,
          "w": 12,
          "x": 0,
          "y": 144
        },
        "deepnote_to_be_reexecuted": false,
        "deepnote_cell_type": "code",
        "id": "qe5A3fY1FzGQ"
      },
      "outputs": [],
      "execution_count": null
    },
    {
      "cell_type": "code",
      "source": [
        "df[df['player_name']=='Aaron Connolly']"
      ],
      "metadata": {
        "tags": [],
        "cell_id": "ffaddd6a6d724de09a4fdcac80e18106",
        "source_hash": "2271333e",
        "execution_start": 1645375719030,
        "execution_millis": 18,
        "deepnote_app_coordinates": {
          "h": 5,
          "w": 12,
          "x": 0,
          "y": 150
        },
        "deepnote_to_be_reexecuted": false,
        "deepnote_cell_type": "code",
        "id": "pb6rT8RHFzGQ"
      },
      "outputs": [],
      "execution_count": null
    },
    {
      "cell_type": "code",
      "source": [
        "df.query('player_name == \"Aaron Connolly\"')"
      ],
      "metadata": {
        "tags": [],
        "cell_id": "6773af81e3024ed8bea5dcf2903edf9e",
        "source_hash": "bb85a5c3",
        "execution_start": 1645375719100,
        "execution_millis": 36,
        "deepnote_app_coordinates": {
          "h": 5,
          "w": 12,
          "x": 0,
          "y": 156
        },
        "deepnote_to_be_reexecuted": false,
        "deepnote_cell_type": "code",
        "id": "BNhzakn5FzGR"
      },
      "outputs": [],
      "execution_count": null
    },
    {
      "cell_type": "markdown",
      "source": [
        "#### Uniendo lo aprendido"
      ],
      "metadata": {
        "tags": [],
        "cell_id": "452c5be8eb41479fae26f5165a25588f",
        "deepnote_app_coordinates": {
          "h": 5,
          "w": 12,
          "x": 0,
          "y": 162
        },
        "deepnote_cell_type": "markdown",
        "id": "0_1mc7H6FzGR"
      }
    },
    {
      "cell_type": "code",
      "source": [
        "# Goles de Cristiano Ronaldo en 2014\n",
        "cr7 = df[(df.player_name == 'Cristiano Ronaldo') & (df.year == 2014)]\n",
        "cols = ['player_name', 'year', 'goals']\n",
        "print(cr7[cols])"
      ],
      "metadata": {
        "tags": [],
        "cell_id": "5e60ea8c6ae348f19b63a205969a0761",
        "source_hash": "11b32cdb",
        "execution_start": 1645375719184,
        "execution_millis": 3,
        "deepnote_app_coordinates": {
          "h": 5,
          "w": 12,
          "x": 0,
          "y": 168
        },
        "deepnote_to_be_reexecuted": false,
        "deepnote_cell_type": "code",
        "id": "Pi_LeydbFzGR"
      },
      "outputs": [],
      "execution_count": null
    },
    {
      "cell_type": "code",
      "source": [
        "# Goles de Ronaldo, Messi y Suárez en 2015\n",
        "players = ['Cristiano Ronaldo', 'Lionel Messi', 'Luis Suárez']\n",
        "top_players = df[(df.player_name.isin(players)) & (df.year == 2015)]\n",
        "print(top_players[cols])"
      ],
      "metadata": {
        "tags": [],
        "cell_id": "3614067d5ea14bc993a1e9ede6d5d9ba",
        "source_hash": "a7f4ca78",
        "execution_start": 1645375719185,
        "execution_millis": 2,
        "deepnote_app_coordinates": {
          "h": 5,
          "w": 12,
          "x": 0,
          "y": 174
        },
        "deepnote_to_be_reexecuted": false,
        "deepnote_cell_type": "code",
        "id": "lt-FULzWFzGR"
      },
      "outputs": [],
      "execution_count": null
    },
    {
      "cell_type": "markdown",
      "source": [
        "### Subsetting con .loc"
      ],
      "metadata": {
        "tags": [],
        "cell_id": "3248da23affb41cf8af4a0b9701471f7",
        "deepnote_app_coordinates": {
          "h": 5,
          "w": 12,
          "x": 0,
          "y": 180
        },
        "deepnote_cell_type": "markdown",
        "id": "g-ohCFQFFzGR"
      }
    },
    {
      "cell_type": "code",
      "source": [
        "# Goles de Ronaldo, Messi y Suárez en 2015\n",
        "df = df.reset_index()\n",
        "df = df.set_index('player_name')\n",
        "players = ['Cristiano Ronaldo', 'Lionel Messi', 'Luis Suárez']\n",
        "cols = ['year', 'goals']\n",
        "top_players = df.loc[players, cols]\n",
        "print(top_players.query('year==2015'))"
      ],
      "metadata": {
        "tags": [],
        "cell_id": "bd8745b60d83418ebc7b629c38f3d99a",
        "source_hash": "47bb4f7a",
        "execution_start": 1645375719229,
        "execution_millis": 12,
        "deepnote_app_coordinates": {
          "h": 5,
          "w": 12,
          "x": 0,
          "y": 186
        },
        "deepnote_to_be_reexecuted": false,
        "deepnote_cell_type": "code",
        "id": "6JePMmTZFzGR"
      },
      "outputs": [],
      "execution_count": null
    },
    {
      "cell_type": "markdown",
      "source": [
        "## Aplicar funciones a un DataFrame\n",
        "\n",
        "- `.sum()` → suma todos los valores de una columna.\n",
        "- `.mean()` → promedio de los valores de una columna.\n",
        "- `.max()` → valor máximo de una columna.\n",
        "- `.min()` → valor mínimo de una columna.\n",
        "- `.cumsum()` → en cada fila va poniendo la suma acumulada de una columna.\n",
        "- `.cummax()` → en cada fila va poniendo el valor máximo encontrado en orden de una columna.\n",
        "- `.value_counts(sort=True)` → cuenta los distintos valores que existen en una columna (muy útil para contar categorías) y los ordena descendientemente.\n",
        "- `.drop_duplicates(subset='col_name')` → elimina duplicados en una columna.\n",
        "\n",
        "También es posible pasar funciones que nosotros mismos hayamos creado u otras funciones importadas de otras librerías. Para ello se usa `.agg(function)`."
      ],
      "metadata": {
        "tags": [],
        "cell_id": "01467386e564455cbdc412e6478dcca2",
        "deepnote_app_coordinates": {
          "h": 5,
          "w": 12,
          "x": 0,
          "y": 192
        },
        "deepnote_cell_type": "markdown",
        "id": "E0hq8tucFzGR"
      }
    },
    {
      "cell_type": "code",
      "source": [
        "# Máxima cantidad de goles hechas por un jugador en una temporada\n",
        "\n",
        "max_goals = df['goals'].max()\n",
        "cols = ['goals', 'year', 'team_name']\n",
        "print(df[df.goals == max_goals][cols])"
      ],
      "metadata": {
        "tags": [],
        "cell_id": "5568cfb91aba43be91aa4e45efb95bdb",
        "source_hash": "be9a5c83",
        "execution_start": 1645375719250,
        "execution_millis": 2,
        "deepnote_app_coordinates": {
          "h": 5,
          "w": 12,
          "x": 0,
          "y": 198
        },
        "deepnote_to_be_reexecuted": false,
        "deepnote_cell_type": "code",
        "id": "S_RGkwZLFzGS"
      },
      "outputs": [],
      "execution_count": null
    },
    {
      "cell_type": "code",
      "source": [
        "# Porcentaje de disparos al arco que terminan en gol\n",
        "total_shots = df['shots'].sum()\n",
        "total_goals = df['goals'].sum()\n",
        "print(round(total_goals / total_shots * 100, 2))"
      ],
      "metadata": {
        "tags": [],
        "cell_id": "ec4351993af64112914611b2d5ad8aa7",
        "source_hash": "498ecace",
        "execution_start": 1645375719285,
        "execution_millis": 1335722,
        "deepnote_app_coordinates": {
          "h": 5,
          "w": 12,
          "x": 0,
          "y": 204
        },
        "deepnote_to_be_reexecuted": false,
        "deepnote_cell_type": "code",
        "id": "DB4sAa2OFzGS"
      },
      "outputs": [],
      "execution_count": null
    },
    {
      "cell_type": "markdown",
      "source": [
        "## Agrupar datos\n",
        "\n",
        "- `df.groupby()`"
      ],
      "metadata": {
        "tags": [],
        "cell_id": "4b23db51f068423680ac7f7e5d4f82b2",
        "deepnote_app_coordinates": {
          "h": 5,
          "w": 12,
          "x": 0,
          "y": 276
        },
        "deepnote_cell_type": "markdown",
        "id": "gdOkDsTUFzGS"
      }
    },
    {
      "cell_type": "code",
      "source": [
        "# Top 10 jugadores que más goles han marcado\n",
        "top_players = df.groupby('player_name')['goals'].sum()\n",
        "print(top_players.sort_values(ascending=False).head(10))"
      ],
      "metadata": {
        "tags": [],
        "cell_id": "9638504f55914b1486aeee1d5f3eec2f",
        "source_hash": "b57ac6c9",
        "execution_start": 1645375719309,
        "execution_millis": 1335745,
        "deepnote_app_coordinates": {
          "h": 5,
          "w": 12,
          "x": 0,
          "y": 216
        },
        "deepnote_to_be_reexecuted": false,
        "deepnote_cell_type": "code",
        "id": "wrsUR5ACFzGS"
      },
      "outputs": [],
      "execution_count": null
    },
    {
      "cell_type": "code",
      "source": [
        "# Top 5 equipos con más tarjetas rojas y amarillas\n",
        "red_cards = df.groupby('team_name')[['red_cards', 'yellow_cards']].sum()\n",
        "print(red_cards.sort_values('red_cards', ascending=False).head())"
      ],
      "metadata": {
        "tags": [],
        "cell_id": "b3a268b5000c406896571862e03aca81",
        "source_hash": "40cc2f7f",
        "execution_start": 1645375719392,
        "execution_millis": 1335732,
        "deepnote_app_coordinates": {
          "h": 5,
          "w": 12,
          "x": 0,
          "y": 222
        },
        "deepnote_to_be_reexecuted": false,
        "deepnote_cell_type": "code",
        "id": "7GE50DqoFzGS"
      },
      "outputs": [],
      "execution_count": null
    },
    {
      "cell_type": "markdown",
      "source": [
        "## Crear columnas"
      ],
      "metadata": {
        "tags": [],
        "cell_id": "e5d980ccc5e5412daee166fd4f0fa553",
        "deepnote_app_coordinates": {
          "h": 5,
          "w": 12,
          "x": 0,
          "y": 228
        },
        "deepnote_cell_type": "markdown",
        "id": "B9tEKT4OFzGT"
      }
    },
    {
      "cell_type": "code",
      "source": [
        "df['goals_assists'] = df.goals + df.assists\n",
        "best_players = df.groupby('player_name')['goals_assists'].sum()\n",
        "print(best_players.sort_values(ascending=False).head())"
      ],
      "metadata": {
        "tags": [],
        "cell_id": "86e9a83a52b244f0ae8fdf7a7f773878",
        "source_hash": "4fcb4094",
        "execution_start": 1645375719394,
        "execution_millis": 1335784,
        "deepnote_app_coordinates": {
          "h": 5,
          "w": 12,
          "x": 0,
          "y": 234
        },
        "deepnote_to_be_reexecuted": false,
        "deepnote_cell_type": "code",
        "id": "vmGecA9sFzGT"
      },
      "outputs": [],
      "execution_count": null
    },
    {
      "cell_type": "markdown",
      "source": [
        "# Ejercicios\n",
        "\n",
        "1. Usa `df.describe()` y cuéntanos todos los insights que te dio y qué podría significar cada uno.\n",
        "2. Encuentra la cantidad de goles totales hechos por cada posición.\n",
        "3. ¿Cuál es el jugador que más tiempo ha jugado y cuál es la media de tiempo de todos los jugadores? *Esta pregunta tiene truco porque hay muchos jugadores suplentes que no juegan casi nunca y van a sesgar los datos, ¿cómo podrías solucionar esto?*\n",
        "4. ¿Qué posición es la que más tiempo juega? ¿Y la que menos?\n",
        "5. ¿Qué porcentaje de goles son hechos por penales? *La columna* `npg` *significa: goles hechos SIN penales.*\n",
        "6. ¿Qué porcentaje de goles son hechos con asistencias?\n",
        "7. ¿Cuál fue el equipo que más goles hizo cada año? ¿Salió campeón ese año?\n",
        "8. ¿Cuántos jugadores jugaron todos los años del dataset? ¿Qué porcentaje del total representan?"
      ],
      "metadata": {
        "tags": [],
        "cell_id": "a86d39ceb0c14a5cbf105489207d2685",
        "deepnote_app_coordinates": {
          "h": 5,
          "w": 12,
          "x": 0,
          "y": 240
        },
        "deepnote_cell_type": "markdown",
        "id": "H2PKYSlAFzGT"
      }
    },
    {
      "cell_type": "code",
      "source": [
        "# Aquí tu súper código. ¡Tú puedes!"
      ],
      "metadata": {
        "tags": [],
        "cell_id": "f4764330c720490098ab757e5a237527",
        "source_hash": "370808a5",
        "execution_start": 1645375719413,
        "execution_millis": 1335756,
        "deepnote_app_coordinates": {
          "h": 5,
          "w": 12,
          "x": 0,
          "y": 246
        },
        "deepnote_to_be_reexecuted": false,
        "deepnote_cell_type": "code",
        "id": "jKnw3sCOFzGT"
      },
      "outputs": [],
      "execution_count": null
    },
    {
      "cell_type": "code",
      "source": [
        "goals_by_team_by_year = df.groupby([\"year\",\"team_name\"])[\"goals\"].sum()\n",
        "goals_by_team_by_year.sort_values(ascending=False).reset_index().drop_duplicates('year')"
      ],
      "metadata": {
        "tags": [],
        "cell_id": "8a7834f1b700458990f43c8e82fdf10d",
        "source_hash": "5bbc1257",
        "execution_start": 1645375719414,
        "execution_millis": 2,
        "deepnote_app_coordinates": {
          "h": 5,
          "w": 12,
          "x": 0,
          "y": 0
        },
        "deepnote_to_be_reexecuted": false,
        "deepnote_cell_type": "code",
        "id": "v2ZYRGgMFzGT"
      },
      "outputs": [],
      "execution_count": null
    },
    {
      "cell_type": "markdown",
      "source": [
        "# Regalos 🎁"
      ],
      "metadata": {
        "tags": [],
        "cell_id": "8a5140e44d4b4ce5bda2c5c58acafa40",
        "deepnote_app_coordinates": {
          "h": 5,
          "w": 12,
          "x": 0,
          "y": 252
        },
        "deepnote_cell_type": "markdown",
        "id": "TCFLOKnVFzGT"
      }
    },
    {
      "cell_type": "markdown",
      "source": [
        "Estos regalos son muy especiales porque no solo te ayudarán ahora, sino que te abrirán un nuevo camino que podrás usar el resto de tu vida.\n",
        "\n",
        "Primero, como no podía faltar, el cheat sheet de todos los comandos de Pandas:\n",
        "- [Cheat Sheet de Pandas](https://pandas.pydata.org/Pandas_Cheat_Sheet.pdf)\n",
        "\n",
        "Y ahora, te abriré la puerta al mundo de los datasets. Te dejaré algunos lugares donde podrás conseguir datasets de todo lo que te puedas imaginar para que apliques todos tus conocimientos y los añadas a tu [propio portafolio](https://platzi.com/blog/deepnote).\n",
        "- [Kaggle](https://www.kaggle.com/datasets): este es un sitio especial para data scientists que tiene MUCHOS datasets y competiciones para que apliques tus conocimientos.\n",
        "- [Awesome Public Datasets](https://github.com/awesomedata/awesome-public-datasets): es un repositorio de GitHub que compiló un montón datasets públicos y los ordernó por categorías. Podrías usarlos como base para tus futuros proyectos de portafolio.\n",
        "- [Datsets Seearch](https://datasetsearch.research.google.com/): Google tiene su propio buscador de datasets, prueba encontrar lo que necesitas aquí."
      ],
      "metadata": {
        "tags": [],
        "cell_id": "228bfa31707143189d86392df32b4f50",
        "deepnote_app_coordinates": {
          "h": 5,
          "w": 12,
          "x": 0,
          "y": 258
        },
        "deepnote_cell_type": "markdown",
        "id": "q2pvTcEsFzGT"
      }
    },
    {
      "cell_type": "markdown",
      "source": [
        "¡Has aprendido un montón, me llenas de orgullo! 💪\n",
        "\n",
        "Me encantaría leer tus respuestas y comentarios en el [blog](https://platzi.com/blog/pandas) 💚"
      ],
      "metadata": {
        "tags": [],
        "cell_id": "4baaaeecd6d9437f9ddef8a3b752aed7",
        "deepnote_app_coordinates": {
          "h": 5,
          "w": 12,
          "x": 0,
          "y": 264
        },
        "deepnote_cell_type": "markdown",
        "id": "ACMTXEiyFzGU"
      }
    },
    {
      "cell_type": "markdown",
      "source": [
        "<a style='text-decoration:none;line-height:16px;display:flex;color:#5B5B62;padding:10px;justify-content:end;' href='https://deepnote.com?utm_source=created-in-deepnote-cell&projectId=d21a300b-571d-4704-b81e-a7ba553b185a' target=\"_blank\">\n",
        "<img alt='Created in deepnote.com' style='display:inline;max-height:16px;margin:0px;margin-right:7.5px;' src='data:image/svg+xml;base64,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' > </img>\n",
        "Created in <span style='font-weight:600;margin-left:4px;'>Deepnote</span></a>"
      ],
      "metadata": {
        "tags": [],
        "created_in_deepnote_cell": true,
        "deepnote_cell_type": "markdown",
        "id": "dHXc-D-2FzGU"
      }
    }
  ],
  "nbformat": 4,
  "nbformat_minor": 0,
  "metadata": {
    "deepnote": {
      "is_reactive": false
    },
    "orig_nbformat": 2,
    "deepnote_app_layout": "article",
    "deepnote_notebook_id": "d03d4f8fd51044debe510477ce2a5fdd",
    "deepnote_execution_queue": [],
    "colab": {
      "provenance": [],
      "include_colab_link": true
    },
    "language_info": {
      "name": "python"
    },
    "kernelspec": {
      "name": "python3",
      "display_name": "Python 3"
    },
    "gpuClass": "standard"
  }
}