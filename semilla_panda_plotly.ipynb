{
  "cells": [
    {
      "cell_type": "markdown",
      "metadata": {
        "id": "view-in-github",
        "colab_type": "text"
      },
      "source": [
        "<a href=\"https://colab.research.google.com/github/alejandronatale21051986/Tutoriales/blob/main/semilla_panda_plotly.ipynb\" target=\"_parent\"><img src=\"https://colab.research.google.com/assets/colab-badge.svg\" alt=\"Open In Colab\"/></a>"
      ]
    },
    {
      "cell_type": "markdown",
      "source": [
        "# What is Markdown?\n",
        "\n",
        "Colab has two types of cells: text and code. Text cells are formatted using a simple markup language called Markdown.\n",
        "\n",
        "\n",
        "To see the Markdown source, double-click a text cell, showing both the Markdown source and the rendered version. Above the Markdown source there is a toolbar to assist editing."
      ],
      "metadata": {
        "id": "r4-0MTmCLUsB"
      }
    },
    {
      "cell_type": "markdown",
      "source": [
        "# Reference\n",
        "\n",
        "Markdown | Preview\n",
        "--- | ---\n",
        "`**bold text**` | **bold text**\n",
        "`*italicized text*` or `_italicized text_` | *italicized text*\n",
        "`` `Monospace` `` | `Monospace`\n",
        "`~~strikethrough~~` | ~~strikethrough~~\n",
        "`[A link](https://www.google.com)` | [A link](https://www.google.com)\n",
        "`![An image](https://www.google.com/images/rss.png)` | ![An image](https://www.google.com/images/rss.png)"
      ],
      "metadata": {
        "id": "Y6sXaZDhaxnZ"
      }
    },
    {
      "cell_type": "markdown",
      "source": [
        "```\n",
        "# Titulos 1\n",
        "# Section 2\n",
        "## Sub-section under Section 2\n",
        "### Sub-section under the sub-section under Section 2\n",
        "# Section 3\n",
        "```\n",
        "\n",
        "# Section 1\n",
        "# Section 2\n",
        "## Sub-section under Section 2\n",
        "### Sub-section under the sub-section under Section 2\n",
        "# Section 3"
      ],
      "metadata": {
        "id": "Wmn9pywXe7Zl"
      }
    },
    {
      "cell_type": "markdown",
      "source": [
        "# Level of indentation\n",
        "---\n",
        "\n",
        "```\n",
        ">One level of indentation\n",
        "```\n",
        "\n",
        ">One level of indentation\n",
        "\n",
        "\n",
        "```markdown\n",
        ">>Two levels of indentation\n",
        "```\n",
        "\n",
        ">>Two levels of indentation\n",
        "\n",
        "---"
      ],
      "metadata": {
        "id": "h1XZSTNrfbLg"
      }
    },
    {
      "cell_type": "markdown",
      "source": [
        "# Listas ordenas\n",
        "\n",
        "Ordered lists:\n",
        "```markdown\n",
        "1. On\n",
        "1. Two\n",
        "1. Three\n",
        "```\n",
        "1. One\n",
        "1. Two\n",
        "1. Three\n",
        "\n",
        "---\n",
        "\n",
        "Unordered lists:\n",
        "```markdown\n",
        "* One\n",
        "* Two\n",
        "* Three\n",
        "```\n",
        "* One\n",
        "* Two\n",
        "* Three\n",
        "\n",
        "---"
      ],
      "metadata": {
        "id": "JgYq-f0Rgbrf"
      }
    },
    {
      "cell_type": "markdown",
      "source": [
        "# Bloque de codigos\n",
        "---\n",
        "\n",
        "\n",
        "\n",
        "````\n",
        "```python\n",
        "print(\"a\")\n",
        "```\n",
        "````\n",
        "\n",
        "```python\n",
        "print(\"a\")\n",
        "```\n",
        "\n",
        "---"
      ],
      "metadata": {
        "id": "CHorhqUShdWy"
      }
    },
    {
      "cell_type": "markdown",
      "source": [
        "# Tablas\n",
        "```markdown\n",
        "First column name  | Second column name \n",
        "-------------------|------------------\n",
        "Row 1, Col 1       | Row 1, Col 2 \n",
        "Row 2, Col 1       | Row 2, Col 2 \n",
        "\n",
        "```\n",
        "\n",
        "First column name  | Second column name \n",
        "-------------------|------------------\n",
        "Row 1, Col 1       | Row 1, Col 2 \n",
        "Row 2, Col 1       | Row 2, Col 2 \n"
      ],
      "metadata": {
        "id": "j-0AxLQaikzq"
      }
    },
    {
      "cell_type": "markdown",
      "source": [
        "# Importar data frame\n",
        "\n",
        "* Git: link de tipo raw.\n",
        "* Confidencial: google drive. \n",
        "\n",
        "~~~\n",
        "import pandas as pd #U: leer y agrupar datos\n",
        "\n",
        "df_por_tabla= pd.read_html('http://data.podemosaprender.org/finanzas/UVI_BCRA_2022.html')\n",
        "df= df_por_tabla[0]\n",
        "~~~\n",
        "\n",
        "~~~\n",
        "import pandas as pd\n",
        "Importar doc. CSV\n",
        "\n",
        "df = pd.read_csv(\"https://data.podemosaprender.org/finanzas/USD_BLUE_2022.csv\",sep='\\t')\n",
        "~~~\n",
        "\n",
        "\n"
      ],
      "metadata": {
        "id": "IAEkxYpq9uJB"
      }
    },
    {
      "cell_type": "markdown",
      "source": [
        "# Crear data frame en forma manual\n",
        "* No todos los data frame tiene que tener indices, puede ser solo columnas.\n",
        "\n",
        "* Por columna \n",
        "```\n",
        "\n",
        "df = pd.DataFrame(\n",
        "\n",
        "{\"a\" : [4, 5, 6],\n",
        "\n",
        "  \"b\" : [7, 8, 9],\n",
        "\n",
        "  \"c\" : [10, 11, 12]},\n",
        "\n",
        "  index = [1, 2, 3])\n",
        "\n",
        "Specify values for each column.\n",
        "\n",
        "```\n",
        "\n",
        "* Por fila\n",
        "\n",
        "\n",
        "```\n",
        "df = pd.DataFrame(\n",
        "\n",
        "  [[4, 7, 10],\n",
        "\n",
        "  [5, 8, 11],\n",
        "\n",
        "  [6, 9, 12]],\n",
        "\n",
        "  index=[1, 2, 3],\n",
        "\n",
        "  columns=['a', 'b', 'c'])\n",
        "\n",
        "Specify values for each row.\n",
        "\n",
        "```\n",
        "* Multiples indíces\n",
        "\n",
        "´´´\n",
        "  df = pd.DataFrame(\n",
        "\n",
        "    {\"a\" : [4 ,5, 6],\n",
        "\n",
        "    \"b\" : [7, 8, 9],\n",
        "\n",
        "    \"c\" : [10, 11, 12]},\n",
        "\n",
        "    index = pd.MultiIndex.from_tuples(\n",
        "\n",
        "    [('d’, 1), ('d’, 2),\n",
        "\n",
        "    ('e’, 2)], names=['n’, 'v']))\n",
        "```\n",
        "\n"
      ],
      "metadata": {
        "id": "xMGS73cIE_9X"
      }
    },
    {
      "cell_type": "markdown",
      "source": [
        "# Nombres de variables  \n",
        "\n",
        "* Si es  nombre de una data frame table -> uvi_df_table\n",
        "\n",
        "* Si es nombre solo de data frame ->uvi_df\n",
        "\n",
        "* Si en nombre de \" nombre de variable + indice guion bajo\" -> dolar_blue_indice, uva_indice, cabj_indice, caramelos_fruta_indice.\n",
        "\n",
        "* Nombre de variables solo en singular."
      ],
      "metadata": {
        "id": "24AhHBXc9SG_"
      }
    },
    {
      "cell_type": "markdown",
      "source": [
        "# Operadores lógicos\n",
        "```\n",
        "* < Less than\n",
        "\n",
        "* != Not equal to\n",
        "\n",
        "* >  Greater than \n",
        "\n",
        "* df.column.isin(values) Group membership\n",
        "\n",
        "* == Equals pd.isnull(obj) Is NaN\n",
        "\n",
        "* <= Less than or equals pd.notnull(obj) Is not NaN\n",
        "\n",
        "* >= Greater than or equals \n",
        "\n",
        " * & and \n",
        " * | or\n",
        " * ~ not \n",
        " * ^ xor\n",
        " * df.any() any\n",
        " * df.all() all\n",
        " ```"
      ],
      "metadata": {
        "id": "Mj3EFw-aJVrV"
      }
    },
    {
      "cell_type": "markdown",
      "source": [
        "# Crear columna\n",
        "```markdown\n",
        "df['nueva columna']=df_a.autos + df_b.motos\n",
        "\n",
        "```"
      ],
      "metadata": {
        "id": "LzlUbJ2mNbc0"
      }
    },
    {
      "cell_type": "markdown",
      "source": [
        "## Cambiar nombre de columna\n",
        "```markdown\n",
        "df.rename(columns={'fecha':'Fecha'}, inplace=True)\n",
        "```"
      ],
      "metadata": {
        "id": "ygtRheiGNNx5"
      }
    },
    {
      "cell_type": "markdown",
      "source": [
        "# Resumén datos \n",
        "\n",
        "* df['w'].value_counts() Count number of rows with each unique value of     variable\n",
        "\n",
        "* len(df)\n",
        " Number of rows in DataFrame.\n",
        "* df.shape  Tuple of # of rows, # of columns in DataFrame.\n",
        "* df['w'].nunique()\n",
        " of distinct values in a column.\n",
        "* df.describe()\n",
        "\n",
        "* sum()\n",
        "Sum values of each object.\n",
        "* count()\n",
        "Count non-NA/null values of\n",
        "each object.\n",
        "* median()\n",
        "Median value of each object.\n",
        "* quantile([0.25,0.75])\n",
        "Quantiles of each object.\n",
        "* apply(function)\n",
        "Apply function to each object.\n",
        "* min()\n",
        "Minimum value in each object.\n",
        "* max()\n",
        "Maximum value in each object.\n",
        "* mean()\n",
        "Mean value of each object.\n",
        "* var()\n",
        "Variance of each object.\n",
        "* std()\n",
        "Standard deviation of each\n",
        "object.\n",
        "\n",
        "\n",
        "\n",
        "\n"
      ],
      "metadata": {
        "id": "T68O2CgPOkOh"
      }
    },
    {
      "cell_type": "markdown",
      "source": [
        "# Groupby\n",
        "\n",
        "* top_players = df.groupby('player_name')['goals'].sum()"
      ],
      "metadata": {
        "id": "Fw3Q07F1RVBp"
      }
    },
    {
      "cell_type": "markdown",
      "source": [
        "# Sort index, sort values, reset index, drop,\n",
        "```\n",
        "* df.sort_values('mpg')\n",
        "    Order rows by values of a column (low to high).\n",
        "* df.sort_values('mpg’, ascending=False)\n",
        "    Order rows by values of a column (high to low).\n",
        "*  df.rename(columns = {'y':'year'})\n",
        "    Rename the columns of a DataFrame\n",
        "* df.sort_index()\n",
        "    Sort the index of a DataFrame\n",
        "*  df.reset_index()\n",
        "    Reset index of DataFrame to row numbers, moving\n",
        "    index to columns.\n",
        "*   df.drop(columns=['Length’, 'Height'])\n",
        "    Drop columns from DataFrame\n",
        "\n",
        "```"
      ],
      "metadata": {
        "id": "dzjmJ9jbSJWZ"
      }
    },
    {
      "cell_type": "markdown",
      "source": [
        "# Merge tables.\n",
        "```\n",
        "pd.merge(adf, bdf,\n",
        "how='left', on='x1')\n",
        "Join matching rows from bdf to adf\n",
        "```"
      ],
      "metadata": {
        "id": "QSa_2Jup8Lru"
      }
    },
    {
      "cell_type": "markdown",
      "source": [
        "\n",
        "\n",
        "#Graficar\n",
        "\n",
        "```markdown\n",
        "\n",
        "!pip install --upgrade plotly;\n",
        "\n",
        "import plotly.express as px #U: graficar con plotly\n",
        "\n",
        "fig = px.line(df_indices, x=\"Fecha\", y=[\"UVA_index\",\"UVI_index\",\"i_USD\"], title='Indice de precios Construcción (UVI) vs Consumidor (UVA) vs Dolar Blue')\n",
        "fig.show()\n",
        "\n",
        "```\n"
      ],
      "metadata": {
        "id": "6JV78hPh8Wzy"
      }
    },
    {
      "cell_type": "markdown",
      "source": [
        "## Graficar entre dos fechas\n",
        "```Mardown\n",
        "Fecha1='2022-02-04'\n",
        "Fecha2='2022-07-16'\n",
        "Fecha3='2022-09-01'\n",
        "\n",
        "def datos_entre(Fecha1,Fecha2):\n",
        "  indices_1_2 = df_indices[(df_indices['Fecha']> Fecha1) & (df_indices['Fecha']< Fecha2)].copy()\n",
        "  indices_1_2['UVA_indice'] = indices_1_2['UVA_indice'] / (indices_1_2.iloc[0]['UVA_indice']) * 100\n",
        "  indices_1_2['UVI_indice'] = indices_1_2['UVI_indice'] / (indices_1_2.iloc[0]['UVI_indice']) * 100\n",
        "  indices_1_2['Blue_indice'] = indices_1_2['Blue_indice'] / (indices_1_2.iloc[0]['Blue_indice']) * 100\n",
        "  return indices_1_2\n",
        "\n",
        "def grafico_entre(Fecha1,Fecha2):\n",
        "  df=datos_entre(Fecha1,Fecha2)\n",
        "  fig = px.line(df, x=\"Fecha\", y=[\"UVA_indice\",\"UVI_indice\",\"Blue_indice\"], title='Indice de precios Construcción (UVI) vs Consumidor (UVA) vs Dolar Blue')\n",
        "  fig.show()    \n",
        "   \n",
        "grafico_entre(Fecha1,Fecha2)\n",
        "\n",
        "```"
      ],
      "metadata": {
        "id": "BQtghuSRH7zW"
      }
    },
    {
      "cell_type": "markdown",
      "source": [
        "\n",
        "# Crear app\n",
        "\n",
        "``` mardown\n",
        "\n",
        "#TODO: mas avanzado pero lento de ejecutar\n",
        "fig = px.line(uva_df, x=\"Fecha\", y=\"Valor\")\n",
        "\n",
        "app = JupyterDash(__name__) #A: podemos crear una app dash aca mismo!\n",
        "app.layout = html.Div([dcc.Graph(figure=fig)]) #A: armamos la app como siempre en dash, con html, controles, etc.\n",
        "app.run_server(mode='inline') #A: ejecutar la app aqui mismo\n",
        "\n",
        "```"
      ],
      "metadata": {
        "id": "4211kE1ePY2-"
      }
    },
    {
      "cell_type": "markdown",
      "source": [
        "# Cheat sheet\n",
        "* [Cheat sheet](https://pandas.pydata.org/Pandas_Cheat_Sheet.pdf)"
      ],
      "metadata": {
        "id": "ofyOBLKCQamO"
      }
    },
    {
      "cell_type": "markdown",
      "source": [
        "# Link \n",
        "\n",
        "* Ubicar todos los links de df en una celdad. \n",
        "\n",
        "* Crear link imagen [Link](https://data.podemosaprender.org/finanzas/USD_BLUE_2022.csv)\n",
        "\n",
        "* [Link foto](https://www.ambito.com/informacion-general/bugatti/cuales-son-los-autos-mas-caros-del-mundo-n5447581)\n",
        "\n",
        "## Link de ayuda colab.\n",
        "* [Github Markdown basics](https://help.github.com/articles/markdown-basics/)\n",
        "* [Github flavored Markdown](https://help.github.com/articles/github-flavored-markdown/)\n",
        "* [Original Markdown spec: Syntax](http://daringfireball.net/projects/markdown/syntax)\n",
        "* [Original Markdown spec: Basics](http://daringfireball.net/projects/markdown/basics)\n",
        "* [marked.js library used by Colab](https://github.com/chjj/marked)\n",
        "* [LaTex mathematics for equations](https://en.wikibooks.org/wiki/LaTeX/Mathematics)"
      ],
      "metadata": {
        "id": "OsywrLm782Dy"
      }
    },
    {
      "cell_type": "code",
      "execution_count": null,
      "metadata": {
        "colab": {
          "base_uri": "https://localhost:8080/",
          "height": 87
        },
        "id": "TH6gg3Gf3aF2",
        "outputId": "87a66cf2-40ff-4cef-b262-495314b995b1"
      },
      "outputs": [
        {
          "output_type": "execute_result",
          "data": {
            "text/plain": [
              "'\\n#TODO: mas avanzado pero lento de ejecutar\\nfig = px.line(uva_df, x=\"Fecha\", y=\"Valor\")\\n\\napp = JupyterDash(__name__) #A: podemos crear una app dash aca mismo!\\napp.layout = html.Div([dcc.Graph(figure=fig)]) #A: armamos la app como siempre en dash, con html, controles, etc.\\napp.run_server(mode=\\'inline\\') #A: ejecutar la app aqui mismo\\n'"
            ],
            "application/vnd.google.colaboratory.intrinsic+json": {
              "type": "string"
            }
          },
          "metadata": {},
          "execution_count": 70
        }
      ],
      "source": [
        "\"\"\"\n",
        "#TODO: mas avanzado pero lento de ejecutar\n",
        "fig = px.line(uva_df, x=\"Fecha\", y=\"Valor\")\n",
        "\n",
        "app = JupyterDash(__name__) #A: podemos crear una app dash aca mismo!\n",
        "app.layout = html.Div([dcc.Graph(figure=fig)]) #A: armamos la app como siempre en dash, con html, controles, etc.\n",
        "app.run_server(mode='inline') #A: ejecutar la app aqui mismo\n",
        "\"\"\""
      ]
    }
  ],
  "metadata": {
    "colab": {
      "provenance": [],
      "toc_visible": true,
      "include_colab_link": true
    },
    "kernelspec": {
      "display_name": "Python 3.10.7 64-bit",
      "language": "python",
      "name": "python3"
    },
    "language_info": {
      "name": "python",
      "version": "3.10.7"
    },
    "vscode": {
      "interpreter": {
        "hash": "c63d8c7d738c2960218a10995aedf0a7f67a49a231e71037adf0440953cdb45b"
      }
    }
  },
  "nbformat": 4,
  "nbformat_minor": 0
}